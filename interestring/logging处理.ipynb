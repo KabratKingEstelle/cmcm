{
 "cells": [
  {
   "cell_type": "markdown",
   "metadata": {},
   "source": [
    "#### 多个模块使用log"
   ]
  },
  {
   "cell_type": "code",
   "execution_count": 3,
   "metadata": {},
   "outputs": [],
   "source": [
    "import logging\n",
    "import auxiliary_module"
   ]
  },
  {
   "cell_type": "code",
   "execution_count": 2,
   "metadata": {},
   "outputs": [
    {
     "name": "stderr",
     "output_type": "stream",
     "text": [
      "INFO:spam_application:created an instance of auxiliary_module.Auxiliary\n",
      "INFO:spam_application:calling auxiliary_module.Auxiliary.do_something\n",
      "INFO:spam_application:finished auxiliary_module.Auxiliary.do_something\n",
      "INFO:spam_application:calling auxiliary_module.some_function()\n",
      "INFO:spam_application.auxiliary:recevied a call to \"some_functions\"\n",
      "INFO:spam_application:done with auxiliary_module.some_function()\n"
     ]
    }
   ],
   "source": [
    "logger = logging.getLogger('spam_application')\n",
    "logger.setLevel(logging.DEBUG)\n",
    "\n",
    "fh = logging.FileHandler('spam.log')\n",
    "fh.setLevel(logging.DEBUG)\n",
    "\n",
    "ch = logging.StreamHandler()\n",
    "ch.setLevel(logging.ERROR)\n",
    "\n",
    "formatter = logging.Formatter('%(asctime)s - %(name)s - %(levelname)s - %(message)s'\n",
    "                             )\n",
    "fh.setFormatter(formatter)\n",
    "ch.setFormatter(formatter)\n",
    "\n",
    "logger.addHandler(fh)\n",
    "logger.addHandler(ch)\n",
    "\n",
    "logging.info('creating an instance of auxiliary_module.Auxiliary')\n",
    "a = auxiliary_module.Auxiliary()\n",
    "logger.info('created an instance of auxiliary_module.Auxiliary')\n",
    "logger.info('calling auxiliary_module.Auxiliary.do_something')\n",
    "a.do_something()\n",
    "logger.info('finished auxiliary_module.Auxiliary.do_something')\n",
    "logger.info('calling auxiliary_module.some_function()')\n",
    "auxiliary_module.some_function()\n",
    "logger.info('done with auxiliary_module.some_function()')"
   ]
  },
  {
   "cell_type": "markdown",
   "metadata": {},
   "source": [
    "####  多线程使用logger"
   ]
  },
  {
   "cell_type": "code",
   "execution_count": 1,
   "metadata": {},
   "outputs": [],
   "source": [
    "import logging\n",
    "import threading\n",
    "import time"
   ]
  },
  {
   "cell_type": "code",
   "execution_count": null,
   "metadata": {},
   "outputs": [
    {
     "name": "stderr",
     "output_type": "stream",
     "text": [
      "  8720 Thread-4 Hi from myfun\n",
      "  8720 MainThread Hellow from main\n",
      "  9226 Thread-4 Hi from myfun\n",
      "  9477 MainThread Hellow from main\n",
      "  9732 Thread-4 Hi from myfun\n",
      " 10232 MainThread Hellow from main\n",
      " 10237 Thread-4 Hi from myfun\n",
      " 10739 Thread-4 Hi from myfun\n",
      " 10985 MainThread Hellow from main\n",
      " 11243 Thread-4 Hi from myfun\n",
      " 11741 MainThread Hellow from main\n",
      " 11749 Thread-4 Hi from myfun\n",
      " 12251 Thread-4 Hi from myfun\n",
      " 12493 MainThread Hellow from main\n",
      " 12755 Thread-4 Hi from myfun\n",
      " 13247 MainThread Hellow from main\n",
      " 13261 Thread-4 Hi from myfun\n",
      " 13765 Thread-4 Hi from myfun\n",
      " 14004 MainThread Hellow from main\n",
      " 14268 Thread-4 Hi from myfun\n",
      " 14760 MainThread Hellow from main\n",
      " 14773 Thread-4 Hi from myfun\n",
      " 15278 Thread-4 Hi from myfun\n",
      " 15512 MainThread Hellow from main\n",
      " 15781 Thread-4 Hi from myfun\n",
      " 16266 MainThread Hellow from main\n",
      " 16285 Thread-4 Hi from myfun\n",
      " 16790 Thread-4 Hi from myfun\n",
      " 17017 MainThread Hellow from main\n",
      " 17294 Thread-4 Hi from myfun\n",
      " 17772 MainThread Hellow from main\n",
      " 17797 Thread-4 Hi from myfun\n",
      " 18301 Thread-4 Hi from myfun\n",
      " 18528 MainThread Hellow from main\n",
      " 18806 Thread-4 Hi from myfun\n",
      " 19283 MainThread Hellow from main\n",
      " 19311 Thread-4 Hi from myfun\n",
      " 19816 Thread-4 Hi from myfun\n",
      " 20035 MainThread Hellow from main\n",
      " 20317 Thread-4 Hi from myfun\n",
      " 20790 MainThread Hellow from main\n",
      " 20823 Thread-4 Hi from myfun\n",
      " 21330 Thread-4 Hi from myfun\n",
      " 21546 MainThread Hellow from main\n",
      " 21836 Thread-4 Hi from myfun\n",
      " 22299 MainThread Hellow from main\n",
      " 22339 Thread-4 Hi from myfun\n"
     ]
    }
   ],
   "source": [
    "def worker(arg):\n",
    "    while not arg['stop']:\n",
    "        logging.debug('Hi from myfun')\n",
    "        time.sleep(0.5)\n",
    "        \n",
    "def main():\n",
    "    logging.basicConfig(level = logging.DEBUG,format = '%(relativeCreated)6d %(threadName)s %(message)s')\n",
    "    info = {'stop': False}\n",
    "    thread  = threading.Thread(target=worker,args=(info,))\n",
    "    thread.start()\n",
    "    while True:\n",
    "        try:\n",
    "            logging.debug('Hellow from main')\n",
    "            time.sleep(0.75)\n",
    "        except KeyboardInterrupt:\n",
    "            info['stop'] = True\n",
    "            break\n",
    "    thread.join()\n",
    "    \n",
    "if __name__ =='__main__':\n",
    "    main()\n",
    "    "
   ]
  },
  {
   "cell_type": "markdown",
   "metadata": {},
   "source": [
    "####  使用多个日志处理器和多种格式化"
   ]
  },
  {
   "cell_type": "code",
   "execution_count": 1,
   "metadata": {},
   "outputs": [
    {
     "name": "stderr",
     "output_type": "stream",
     "text": [
      "2019-09-07 20:06:11,691 - simple_example - ERROR - error message\n",
      "2019-09-07 20:06:11,693 - simple_example - CRITICAL - critical message\n"
     ]
    }
   ],
   "source": [
    "import logging\n",
    "logger = logging.getLogger('simple_example')\n",
    "logger.setLevel(logging.DEBUG)\n",
    "\n",
    "fh = logging.FileHandler('spam2.log')\n",
    "fh.setLevel(logging.DEBUG)\n",
    "\n",
    "ch = logging.StreamHandler()\n",
    "ch.setLevel(logging.ERROR)\n",
    "\n",
    "formatter = logging.Formatter('%(asctime)s - %(name)s - %(levelname)s - %(message)s')\n",
    "ch.setFormatter(formatter)\n",
    "fh.setFormatter(formatter)\n",
    "\n",
    "logger.addHandler(ch)\n",
    "logger.addHandler(fh)\n",
    "\n",
    "logger.debug('debug massage')\n",
    "logger.info('info message')\n",
    "logger.warning('warn message')\n",
    "logger.error('error message')\n",
    "logger.critical('critical message')"
   ]
  },
  {
   "cell_type": "markdown",
   "metadata": {},
   "source": [
    "#### 多个地方记录日志"
   ]
  },
  {
   "cell_type": "code",
   "execution_count": 2,
   "metadata": {},
   "outputs": [
    {
     "name": "stderr",
     "output_type": "stream",
     "text": [
      "root         : INFO     Jackdaws love my big sphinx of quartz\n",
      "myapp.area1  : INFO     How quickly daft jumping zebras vex.\n",
      "myapp.area2  : WARNING  Jail zesty vixen who grabbed pay from quack.\n",
      "myapp.area2  : ERROR    The five boxing wizards jump qucikly\n"
     ]
    }
   ],
   "source": [
    "import logging\n",
    "logging.basicConfig(level = logging.DEBUG,\n",
    "                   format = '%(asctime)s %(name)-12s %(levelname)-8s %(message)s',\n",
    "                   datefmt = '%m-%d %H:%M',\n",
    "                   filename = 'myapp.log',\n",
    "                   filemode = 'w')\n",
    "# define a handler which writes INFO message or higher to the sys.stderr\n",
    "console =logging.StreamHandler()\n",
    "console.setLevel(logging.INFO)\n",
    "# set a format which is simpler for console use\n",
    "formatter = logging.Formatter('%(name)-12s : %(levelname)-8s %(message)s')\n",
    "console.setFormatter(formatter)\n",
    "logging.getLogger('').addHandler(console)\n",
    "\n",
    "# Now ,we can log to the root logger, or any other logger.First the root....\n",
    "logging.info('Jackdaws love my big sphinx of quartz')\n",
    "\n",
    "# Now, define a couple of other loggers which might represent areas in your applications:\n",
    "\n",
    "logger1 = logging.getLogger('myapp.area1')\n",
    "logger2 = logging.getLogger('myapp.area2')\n",
    "\n",
    "logger1.debug('Quick zephyrs blow,vexing daft Jim.')\n",
    "logger1.info('How quickly daft jumping zebras vex.')\n",
    "logger2.warning('Jail zesty vixen who grabbed pay from quack.')\n",
    "logger2.error('The five boxing wizards jump qucikly')"
   ]
  },
  {
   "cell_type": "markdown",
   "metadata": {},
   "source": [
    "####    日志服务器配置"
   ]
  },
  {
   "cell_type": "code",
   "execution_count": null,
   "metadata": {},
   "outputs": [],
   "source": [
    "import logging\n",
    "import logging.config\n",
    "import time\n",
    "import os\n",
    "\n",
    "# read the initial config file\n",
    "logging.config.fileConfig('logging.conf')\n",
    "\n",
    "# create and start listener on paort 9999\n",
    "t = logging.config.listen(9999)\n",
    "t.start()\n",
    "\n",
    "logger = logging.getLogger('simpleExample')\n",
    "\n",
    "try:\n",
    "    # loop through logging calls to see the difference\n",
    "    # new configurations make, until Ctrl+C is pressed\n",
    "    while True:\n",
    "        logger.debug('debug message')\n",
    "        logger.info('info message')\n",
    "        logger.warning('warn message')\n",
    "        logger.error('error message')\n",
    "        logger.critical('critical message')\n",
    "        time.sleep(5)\n",
    "        \n",
    "except KeyboardInterrupt:\n",
    "    # clean up\n",
    "    logging.config.stopListening()\n",
    "    t.join()"
   ]
  },
  {
   "cell_type": "code",
   "execution_count": null,
   "metadata": {},
   "outputs": [],
   "source": [
    "import socket,sys,struct\n",
    "def main():\n",
    "    with open(sys.argv[1],'rb') as f:\n",
    "        data_to_send = f.read()\n",
    "\n",
    "    HOST ='localhost'\n",
    "    PORT = 9999\n",
    "    s = socket.socket(socket.AF_INET, socket.SOCK_STREAM)\n",
    "    print('connecting....')\n",
    "    s.connect((HOST,PORT))\n",
    "    print('sending config....')\n",
    "    s.send(struct.pack('>L'),len(data_to_send))\n",
    "    s.send(data_to_send)\n",
    "    s.close()\n",
    "    print('complete')\n",
    "if __name__ =='__main__':\n",
    "    main()"
   ]
  },
  {
   "cell_type": "markdown",
   "metadata": {},
   "source": [
    "#### 处理阻塞"
   ]
  },
  {
   "cell_type": "code",
   "execution_count": 8,
   "metadata": {},
   "outputs": [
    {
     "name": "stderr",
     "output_type": "stream",
     "text": [
      "MainThread: Look out!\n"
     ]
    }
   ],
   "source": [
    "import queue\n",
    "que = queue.Queue(-1) # no limit on size\n",
    "queue_handler = logging.handlers.QueueHandler(que)\n",
    "handler = logging.StreamHandler()\n",
    "listener = logging.handlers.QueueListener(que,handler)\n",
    "root = logging.getLogger()\n",
    "root.addHandler(queue_handler)\n",
    "formatter = logging.Formatter('%(threadName)s: %(message)s')\n",
    "handler.setFormatter(formatter)\n",
    "listener.start()\n",
    "root.warning('Look out!')"
   ]
  },
  {
   "cell_type": "markdown",
   "metadata": {},
   "source": [
    "####  通过网络发送和接受日志"
   ]
  },
  {
   "cell_type": "code",
   "execution_count": 10,
   "metadata": {},
   "outputs": [
    {
     "name": "stderr",
     "output_type": "stream",
     "text": [
      "MainThread: Jackdaws love my big sphix of quartz\n",
      "MainThread: Quick zephyrs blow\n",
      "MainThread: How quickly\n",
      "MainThread: Jail zesty\n",
      "MainThread: The five\n"
     ]
    }
   ],
   "source": [
    "import logging ,logging.handlers\n",
    "rootLogger = logging.getLogger('')\n",
    "rootLogger.setLevel(logging.DEBUG)\n",
    "socketHandler = logging.handlers.SocketHandler('localhost',\n",
    "                                              logging.handlers.DEFAULT_TCP_LOGGING_PORT)\n",
    "rootLogger.addHandler(socketHandler)\n",
    "logging.info('Jackdaws love my big sphix of quartz')\n",
    "logger1 = logging.getLogger('myapp.area1')\n",
    "logger2 = logging.getLogger('myapp.area2')\n",
    "\n",
    "logger1.debug('Quick zephyrs blow')\n",
    "logger1.info('How quickly')\n",
    "logger2.warning('Jail zesty')\n",
    "logger2.error('The five')"
   ]
  },
  {
   "cell_type": "code",
   "execution_count": 11,
   "metadata": {},
   "outputs": [],
   "source": [
    "import pickle\n",
    "import logging\n",
    "import logging.handlers\n",
    "import socketserver\n",
    "import struct\n",
    "\n",
    "class LogRecordStreamHandler(socketserver.StreamRequestHandler):\n",
    "    def handle(self):\n",
    "        while True:\n",
    "            chunk = self.connection.recv(4)\n",
    "            if len(chunk)<4:\n",
    "                break\n",
    "            slen = struct.unpack('>L',chunk)[0]\n",
    "            chunk = self.connection.recv(slen)\n",
    "            while len(chunk) < slen:\n",
    "                chunk = chunk + self.connection.recv(slen - len(chunk))\n",
    "                obj = self.unPickle(chunk)\n",
    "                record = logging.makeLogRecord(obj)\n",
    "                self.handleLogRecord(record)\n",
    "    def unPickle(self,data):\n",
    "        return pickle.loads(data)\n",
    "    def handleLogRecord(self,record):\n",
    "        if self.serve.logname is not None:\n",
    "            name = self.server.logname\n",
    "        else:\n",
    "            name = record.name\n",
    "        logger.handle(record)\n",
    "        \n",
    "class LogRecordSocketReceiver(socketserver.ThreadingTCPServer):\n",
    "    allow_reuse_address = True\n",
    "    def __init__(self,host = 'localhost',\n",
    "                port = logging.handlers.DEFAULT_TCP_LOGGING_PORT,\n",
    "                handler = LogRecordStreamHandler):\n",
    "        socketserver.ThreadingTCPServer.__init__(self,(host,port),handler)\n",
    "        self.abort = 0\n",
    "        self.timeout = 1\n",
    "        self.logname = None\n",
    "    def serve_until_stopped(self):\n",
    "        import select\n",
    "        abort = 0\n",
    "        while not abort:\n",
    "            rd, wr,ex = select.select([self.socket.fileno()],[],[],self.timeout)\n",
    "            if rd:\n",
    "                self.handle_request():\n",
    "            abort = self.abort\n",
    "            \n",
    "def main():\n",
    "    logging.basicConfig(format = '%(relativeCreated)5d %(name)-15s %(levelname)-8s %(message)s')\n",
    "    tcpserver = LogRecordSocketReceiver()\n",
    "    print('Abort to start TCP server....')\n",
    "    tcpserver.serve_until_stopped()\n",
    "    \n",
    "if __name__ =='__main__':\n",
    "    main()\n",
    "                    \n",
    "        "
   ]
  },
  {
   "cell_type": "code",
   "execution_count": 12,
   "metadata": {},
   "outputs": [],
   "source": [
    "class CustomAdapter(logging.LoggerAdapter):\n",
    "    def process(self,msg,kwargs):\n",
    "        return '[%s]%s'%(self.extra['connid'],msg),kwargs"
   ]
  },
  {
   "cell_type": "code",
   "execution_count": 13,
   "metadata": {},
   "outputs": [],
   "source": [
    "logger = logging.getLogger(__name__)\n",
    "adapter = CustomAdapter(logger,{'connid':'good'})"
   ]
  },
  {
   "cell_type": "markdown",
   "metadata": {},
   "source": [
    "#### 使用过滤器传递上下文信息"
   ]
  },
  {
   "cell_type": "code",
   "execution_count": 20,
   "metadata": {},
   "outputs": [
    {
     "ename": "NameError",
     "evalue": "name 'ContextFiler' is not defined",
     "output_type": "error",
     "traceback": [
      "\u001b[0;31m---------------------------------------------------------------------------\u001b[0m",
      "\u001b[0;31mNameError\u001b[0m                                 Traceback (most recent call last)",
      "\u001b[0;32m<ipython-input-20-65e2e6429502>\u001b[0m in \u001b[0;36m<module>\u001b[0;34m\u001b[0m\n\u001b[1;32m     23\u001b[0m     \u001b[0ma1\u001b[0m\u001b[0;34m.\u001b[0m\u001b[0maddFilter\u001b[0m\u001b[0;34m(\u001b[0m\u001b[0mf\u001b[0m\u001b[0;34m)\u001b[0m\u001b[0;34m\u001b[0m\u001b[0;34m\u001b[0m\u001b[0m\n\u001b[1;32m     24\u001b[0m     \u001b[0ma2\u001b[0m\u001b[0;34m.\u001b[0m\u001b[0maddFilter\u001b[0m\u001b[0;34m(\u001b[0m\u001b[0mf\u001b[0m\u001b[0;34m)\u001b[0m\u001b[0;34m\u001b[0m\u001b[0;34m\u001b[0m\u001b[0m\n\u001b[0;32m---> 25\u001b[0;31m     \u001b[0ma1\u001b[0m\u001b[0;34m.\u001b[0m\u001b[0mdebug\u001b[0m\u001b[0;34m(\u001b[0m\u001b[0;34m'A debug message'\u001b[0m\u001b[0;34m)\u001b[0m\u001b[0;34m\u001b[0m\u001b[0;34m\u001b[0m\u001b[0m\n\u001b[0m\u001b[1;32m     26\u001b[0m     \u001b[0ma1\u001b[0m\u001b[0;34m.\u001b[0m\u001b[0mindo\u001b[0m\u001b[0;34m(\u001b[0m\u001b[0;34m'A info message with %s'\u001b[0m\u001b[0;34m,\u001b[0m\u001b[0;34m'some parameters'\u001b[0m\u001b[0;34m)\u001b[0m\u001b[0;34m\u001b[0m\u001b[0;34m\u001b[0m\u001b[0m\n\u001b[1;32m     27\u001b[0m \u001b[0;34m\u001b[0m\u001b[0m\n",
      "\u001b[0;32m~/anaconda3/lib/python3.7/logging/__init__.py\u001b[0m in \u001b[0;36mdebug\u001b[0;34m(self, msg, *args, **kwargs)\u001b[0m\n\u001b[1;32m   1369\u001b[0m         \"\"\"\n\u001b[1;32m   1370\u001b[0m         \u001b[0;32mif\u001b[0m \u001b[0mself\u001b[0m\u001b[0;34m.\u001b[0m\u001b[0misEnabledFor\u001b[0m\u001b[0;34m(\u001b[0m\u001b[0mDEBUG\u001b[0m\u001b[0;34m)\u001b[0m\u001b[0;34m:\u001b[0m\u001b[0;34m\u001b[0m\u001b[0;34m\u001b[0m\u001b[0m\n\u001b[0;32m-> 1371\u001b[0;31m             \u001b[0mself\u001b[0m\u001b[0;34m.\u001b[0m\u001b[0m_log\u001b[0m\u001b[0;34m(\u001b[0m\u001b[0mDEBUG\u001b[0m\u001b[0;34m,\u001b[0m \u001b[0mmsg\u001b[0m\u001b[0;34m,\u001b[0m \u001b[0margs\u001b[0m\u001b[0;34m,\u001b[0m \u001b[0;34m**\u001b[0m\u001b[0mkwargs\u001b[0m\u001b[0;34m)\u001b[0m\u001b[0;34m\u001b[0m\u001b[0;34m\u001b[0m\u001b[0m\n\u001b[0m\u001b[1;32m   1372\u001b[0m \u001b[0;34m\u001b[0m\u001b[0m\n\u001b[1;32m   1373\u001b[0m     \u001b[0;32mdef\u001b[0m \u001b[0minfo\u001b[0m\u001b[0;34m(\u001b[0m\u001b[0mself\u001b[0m\u001b[0;34m,\u001b[0m \u001b[0mmsg\u001b[0m\u001b[0;34m,\u001b[0m \u001b[0;34m*\u001b[0m\u001b[0margs\u001b[0m\u001b[0;34m,\u001b[0m \u001b[0;34m**\u001b[0m\u001b[0mkwargs\u001b[0m\u001b[0;34m)\u001b[0m\u001b[0;34m:\u001b[0m\u001b[0;34m\u001b[0m\u001b[0;34m\u001b[0m\u001b[0m\n",
      "\u001b[0;32m~/anaconda3/lib/python3.7/logging/__init__.py\u001b[0m in \u001b[0;36m_log\u001b[0;34m(self, level, msg, args, exc_info, extra, stack_info)\u001b[0m\n\u001b[1;32m   1517\u001b[0m         record = self.makeRecord(self.name, level, fn, lno, msg, args,\n\u001b[1;32m   1518\u001b[0m                                  exc_info, func, extra, sinfo)\n\u001b[0;32m-> 1519\u001b[0;31m         \u001b[0mself\u001b[0m\u001b[0;34m.\u001b[0m\u001b[0mhandle\u001b[0m\u001b[0;34m(\u001b[0m\u001b[0mrecord\u001b[0m\u001b[0;34m)\u001b[0m\u001b[0;34m\u001b[0m\u001b[0;34m\u001b[0m\u001b[0m\n\u001b[0m\u001b[1;32m   1520\u001b[0m \u001b[0;34m\u001b[0m\u001b[0m\n\u001b[1;32m   1521\u001b[0m     \u001b[0;32mdef\u001b[0m \u001b[0mhandle\u001b[0m\u001b[0;34m(\u001b[0m\u001b[0mself\u001b[0m\u001b[0;34m,\u001b[0m \u001b[0mrecord\u001b[0m\u001b[0;34m)\u001b[0m\u001b[0;34m:\u001b[0m\u001b[0;34m\u001b[0m\u001b[0;34m\u001b[0m\u001b[0m\n",
      "\u001b[0;32m~/anaconda3/lib/python3.7/logging/__init__.py\u001b[0m in \u001b[0;36mhandle\u001b[0;34m(self, record)\u001b[0m\n\u001b[1;32m   1526\u001b[0m         \u001b[0mwell\u001b[0m \u001b[0;32mas\u001b[0m \u001b[0mthose\u001b[0m \u001b[0mcreated\u001b[0m \u001b[0mlocally\u001b[0m\u001b[0;34m.\u001b[0m \u001b[0mLogger\u001b[0m\u001b[0;34m-\u001b[0m\u001b[0mlevel\u001b[0m \u001b[0mfiltering\u001b[0m \u001b[0;32mis\u001b[0m \u001b[0mapplied\u001b[0m\u001b[0;34m.\u001b[0m\u001b[0;34m\u001b[0m\u001b[0;34m\u001b[0m\u001b[0m\n\u001b[1;32m   1527\u001b[0m         \"\"\"\n\u001b[0;32m-> 1528\u001b[0;31m         \u001b[0;32mif\u001b[0m \u001b[0;34m(\u001b[0m\u001b[0;32mnot\u001b[0m \u001b[0mself\u001b[0m\u001b[0;34m.\u001b[0m\u001b[0mdisabled\u001b[0m\u001b[0;34m)\u001b[0m \u001b[0;32mand\u001b[0m \u001b[0mself\u001b[0m\u001b[0;34m.\u001b[0m\u001b[0mfilter\u001b[0m\u001b[0;34m(\u001b[0m\u001b[0mrecord\u001b[0m\u001b[0;34m)\u001b[0m\u001b[0;34m:\u001b[0m\u001b[0;34m\u001b[0m\u001b[0;34m\u001b[0m\u001b[0m\n\u001b[0m\u001b[1;32m   1529\u001b[0m             \u001b[0mself\u001b[0m\u001b[0;34m.\u001b[0m\u001b[0mcallHandlers\u001b[0m\u001b[0;34m(\u001b[0m\u001b[0mrecord\u001b[0m\u001b[0;34m)\u001b[0m\u001b[0;34m\u001b[0m\u001b[0;34m\u001b[0m\u001b[0m\n\u001b[1;32m   1530\u001b[0m \u001b[0;34m\u001b[0m\u001b[0m\n",
      "\u001b[0;32m~/anaconda3/lib/python3.7/logging/__init__.py\u001b[0m in \u001b[0;36mfilter\u001b[0;34m(self, record)\u001b[0m\n\u001b[1;32m    760\u001b[0m         \u001b[0;32mfor\u001b[0m \u001b[0mf\u001b[0m \u001b[0;32min\u001b[0m \u001b[0mself\u001b[0m\u001b[0;34m.\u001b[0m\u001b[0mfilters\u001b[0m\u001b[0;34m:\u001b[0m\u001b[0;34m\u001b[0m\u001b[0;34m\u001b[0m\u001b[0m\n\u001b[1;32m    761\u001b[0m             \u001b[0;32mif\u001b[0m \u001b[0mhasattr\u001b[0m\u001b[0;34m(\u001b[0m\u001b[0mf\u001b[0m\u001b[0;34m,\u001b[0m \u001b[0;34m'filter'\u001b[0m\u001b[0;34m)\u001b[0m\u001b[0;34m:\u001b[0m\u001b[0;34m\u001b[0m\u001b[0;34m\u001b[0m\u001b[0m\n\u001b[0;32m--> 762\u001b[0;31m                 \u001b[0mresult\u001b[0m \u001b[0;34m=\u001b[0m \u001b[0mf\u001b[0m\u001b[0;34m.\u001b[0m\u001b[0mfilter\u001b[0m\u001b[0;34m(\u001b[0m\u001b[0mrecord\u001b[0m\u001b[0;34m)\u001b[0m\u001b[0;34m\u001b[0m\u001b[0;34m\u001b[0m\u001b[0m\n\u001b[0m\u001b[1;32m    763\u001b[0m             \u001b[0;32melse\u001b[0m\u001b[0;34m:\u001b[0m\u001b[0;34m\u001b[0m\u001b[0;34m\u001b[0m\u001b[0m\n\u001b[1;32m    764\u001b[0m                 \u001b[0mresult\u001b[0m \u001b[0;34m=\u001b[0m \u001b[0mf\u001b[0m\u001b[0;34m(\u001b[0m\u001b[0mrecord\u001b[0m\u001b[0;34m)\u001b[0m \u001b[0;31m# assume callable - will raise if not\u001b[0m\u001b[0;34m\u001b[0m\u001b[0;34m\u001b[0m\u001b[0m\n",
      "\u001b[0;32m<ipython-input-15-a3cc374d68c0>\u001b[0m in \u001b[0;36mfilter\u001b[0;34m(self, record)\u001b[0m\n\u001b[1;32m      7\u001b[0m \u001b[0;34m\u001b[0m\u001b[0m\n\u001b[1;32m      8\u001b[0m     \u001b[0;32mdef\u001b[0m \u001b[0mfilter\u001b[0m\u001b[0;34m(\u001b[0m\u001b[0mself\u001b[0m\u001b[0;34m,\u001b[0m \u001b[0mrecord\u001b[0m\u001b[0;34m)\u001b[0m\u001b[0;34m:\u001b[0m\u001b[0;34m\u001b[0m\u001b[0;34m\u001b[0m\u001b[0m\n\u001b[0;32m----> 9\u001b[0;31m         \u001b[0mrecord\u001b[0m\u001b[0;34m.\u001b[0m\u001b[0mip\u001b[0m \u001b[0;34m=\u001b[0m \u001b[0mchoice\u001b[0m\u001b[0;34m(\u001b[0m\u001b[0mContextFiler\u001b[0m\u001b[0;34m.\u001b[0m\u001b[0mIPS\u001b[0m\u001b[0;34m)\u001b[0m\u001b[0;34m\u001b[0m\u001b[0;34m\u001b[0m\u001b[0m\n\u001b[0m\u001b[1;32m     10\u001b[0m         \u001b[0mrecord\u001b[0m\u001b[0;34m.\u001b[0m\u001b[0muser\u001b[0m \u001b[0;34m=\u001b[0m \u001b[0mchoice\u001b[0m\u001b[0;34m(\u001b[0m\u001b[0mContextFilter\u001b[0m\u001b[0;34m.\u001b[0m\u001b[0mUSERS\u001b[0m\u001b[0;34m)\u001b[0m\u001b[0;34m\u001b[0m\u001b[0;34m\u001b[0m\u001b[0m\n\u001b[1;32m     11\u001b[0m         \u001b[0;32mreturn\u001b[0m \u001b[0;32mTrue\u001b[0m\u001b[0;34m\u001b[0m\u001b[0;34m\u001b[0m\u001b[0m\n",
      "\u001b[0;31mNameError\u001b[0m: name 'ContextFiler' is not defined"
     ]
    }
   ],
   "source": [
    "import logging\n",
    "from random import choice\n",
    "\n",
    "class ContextFilter(logging.Filter):\n",
    "    USERS = ['jim','fred','sheila']\n",
    "    IPS = ['123,123,212,23','127.0.0.1','192.168.0.1']\n",
    "    \n",
    "    def filter(self, record):\n",
    "        record.ip = choice(ContextFilter.IPS)\n",
    "        record.user = choice(ContextFilter.USERS)\n",
    "        return True\n",
    "    \n",
    "if __name__=='__main__':\n",
    "    levels = (logging.DEBUG, logging.INFO, logging.WARNING,logging.ERROR,logging.CRITICAL)\n",
    "    logging.basicConfig(level = logging.DEBUG,\n",
    "                       format ='%(asctime)-15s %(name)-5s %(levelname)-8s  IP:%(ip)-15s User: %(user)-8s %(message)s'\n",
    "                       )\n",
    "    a1 = logging.getLogger('a.b.c')\n",
    "    a2 = logging.getLogger('d.e.f')\n",
    "    \n",
    "    f = ContextFilter()\n",
    "    f\n",
    "    a1.addFilter(f)\n",
    "    a2.addFilter(f)\n",
    "    a1.debug('A debug message')\n",
    "    a1.indo('A info message with %s','some parameters')\n",
    "    \n",
    "    for x in range(10):\n",
    "        lvl = choice(levels)\n",
    "        lvlname = logging.getLevelName(lvl)\n",
    "        a2.log(lvl,'A message at %s level with %d %s',lvlname,2,'parameters')"
   ]
  },
  {
   "cell_type": "code",
   "execution_count": 1,
   "metadata": {},
   "outputs": [
    {
     "name": "stderr",
     "output_type": "stream",
     "text": [
      "2019-09-07 22:29:04,239 a.b.c DEBUG    IP: 123.231.231.123 User: sheila   A debug message\n",
      "2019-09-07 22:29:04,242 a.b.c INFO     IP: 123.231.231.123 User: jim      An info message with some parameters\n",
      "2019-09-07 22:29:04,243 d.e.f ERROR    IP: 123.231.231.123 User: sheila   A message at ERROR level with 2 parameters\n",
      "2019-09-07 22:29:04,244 d.e.f ERROR    IP: 123.231.231.123 User: jim      A message at ERROR level with 2 parameters\n",
      "2019-09-07 22:29:04,245 d.e.f ERROR    IP: 123.231.231.123 User: jim      A message at ERROR level with 2 parameters\n",
      "2019-09-07 22:29:04,247 d.e.f INFO     IP: 123.231.231.123 User: sheila   A message at INFO level with 2 parameters\n",
      "2019-09-07 22:29:04,249 d.e.f DEBUG    IP: 192.168.0.1     User: sheila   A message at DEBUG level with 2 parameters\n",
      "2019-09-07 22:29:04,252 d.e.f WARNING  IP: 123.231.231.123 User: jim      A message at WARNING level with 2 parameters\n",
      "2019-09-07 22:29:04,253 d.e.f ERROR    IP: 192.168.0.1     User: sheila   A message at ERROR level with 2 parameters\n",
      "2019-09-07 22:29:04,255 d.e.f ERROR    IP: 127.0.0.1       User: jim      A message at ERROR level with 2 parameters\n",
      "2019-09-07 22:29:04,256 d.e.f INFO     IP: 123.231.231.123 User: fred     A message at INFO level with 2 parameters\n",
      "2019-09-07 22:29:04,257 d.e.f DEBUG    IP: 192.168.0.1     User: fred     A message at DEBUG level with 2 parameters\n"
     ]
    }
   ],
   "source": [
    "import logging\n",
    "from random import choice\n",
    "\n",
    "class ContextFilter(logging.Filter):\n",
    "    \"\"\"\n",
    "    This is a filter which injects contextual information into the log.\n",
    "\n",
    "    Rather than use actual contextual information, we just use random\n",
    "    data in this demo.\n",
    "    \"\"\"\n",
    "\n",
    "    USERS = ['jim', 'fred', 'sheila']\n",
    "    IPS = ['123.231.231.123', '127.0.0.1', '192.168.0.1']\n",
    "\n",
    "    def filter(self, record):\n",
    "\n",
    "        record.ip = choice(ContextFilter.IPS)\n",
    "        record.user = choice(ContextFilter.USERS)\n",
    "        return True\n",
    "\n",
    "if __name__ == '__main__':\n",
    "    levels = (logging.DEBUG, logging.INFO, logging.WARNING, logging.ERROR, logging.CRITICAL)\n",
    "    logging.basicConfig(level=logging.DEBUG,\n",
    "                        format='%(asctime)-15s %(name)-5s %(levelname)-8s IP: %(ip)-15s User: %(user)-8s %(message)s')\n",
    "    a1 = logging.getLogger('a.b.c')\n",
    "    a2 = logging.getLogger('d.e.f')\n",
    "\n",
    "    f = ContextFilter()\n",
    "    a1.addFilter(f)\n",
    "    a2.addFilter(f)\n",
    "    a1.debug('A debug message')\n",
    "    a1.info('An info message with %s', 'some parameters')\n",
    "    for x in range(10):\n",
    "        lvl = choice(levels)\n",
    "        lvlname = logging.getLevelName(lvl)\n",
    "        a2.log(lvl, 'A message at %s level with %d %s', lvlname, 2, 'parameters')"
   ]
  },
  {
   "cell_type": "code",
   "execution_count": null,
   "metadata": {},
   "outputs": [],
   "source": []
  }
 ],
 "metadata": {
  "kernelspec": {
   "display_name": "Python 3",
   "language": "python",
   "name": "python3"
  },
  "language_info": {
   "codemirror_mode": {
    "name": "ipython",
    "version": 3
   },
   "file_extension": ".py",
   "mimetype": "text/x-python",
   "name": "python",
   "nbconvert_exporter": "python",
   "pygments_lexer": "ipython3",
   "version": "3.7.6"
  },
  "toc": {
   "base_numbering": 1,
   "nav_menu": {},
   "number_sections": true,
   "sideBar": true,
   "skip_h1_title": false,
   "title_cell": "Table of Contents",
   "title_sidebar": "Contents",
   "toc_cell": false,
   "toc_position": {},
   "toc_section_display": true,
   "toc_window_display": false
  },
  "varInspector": {
   "cols": {
    "lenName": 16,
    "lenType": 16,
    "lenVar": 40
   },
   "kernels_config": {
    "python": {
     "delete_cmd_postfix": "",
     "delete_cmd_prefix": "del ",
     "library": "var_list.py",
     "varRefreshCmd": "print(var_dic_list())"
    },
    "r": {
     "delete_cmd_postfix": ") ",
     "delete_cmd_prefix": "rm(",
     "library": "var_list.r",
     "varRefreshCmd": "cat(var_dic_list()) "
    }
   },
   "types_to_exclude": [
    "module",
    "function",
    "builtin_function_or_method",
    "instance",
    "_Feature"
   ],
   "window_display": false
  }
 },
 "nbformat": 4,
 "nbformat_minor": 2
}
