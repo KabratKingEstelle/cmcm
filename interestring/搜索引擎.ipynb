{
 "cells": [
  {
   "cell_type": "code",
   "execution_count": 18,
   "metadata": {},
   "outputs": [],
   "source": [
    "texts = {'text1' :'I have a dream that my four children will one day live in a nation where they will not be judged by the color of their skin but by the contenct of their character. i have a dream today',\n",
    " 'text2':'I have a dream that one day down in Alabama, with its vicious racists, .... one day right there in Alabama little black boys and black girls will be able to join hands with little boys and white girls as sisiters and brothers. I have a dream today',\n",
    "'text3': 'I have a dream that one day every valley shall be esalted , every hill and mountain shall be made low , the rough places will be made plain, and the crooked places will be made straight, and the glory of the Lord shall be revealed, and all fleah shall see it together',\n",
    "'text4' : 'This is my hope ... With this faith we will be able to hew out of the mountain of despair a stone of hope, With this faith we will be able to transform the jangling discords of our nation into a symphony of brotherhood. With this faith we will be able to work together, to pray together, to struggle together, to go to jail together, to stand up for freedom together, knowing that we will be free one day'}"
   ]
  },
  {
   "cell_type": "code",
   "execution_count": 19,
   "metadata": {},
   "outputs": [],
   "source": [
    "class SearchEngineBase(object):\n",
    "    def __init__(self):\n",
    "        pass\n",
    "    \n",
    "    def add_corpus(self, key,text): #读取文件内容\n",
    "        self.process_corpus(key,text)\n",
    "        \n",
    "    def process_corpus(self,key,text):#文件路径为ID，处理后的内容存下来，索引\n",
    "        raise Exception('search not implemented.')"
   ]
  },
  {
   "cell_type": "code",
   "execution_count": 21,
   "metadata": {},
   "outputs": [],
   "source": [
    "def main(search_engine):\n",
    "    for key,text in texts.items() :\n",
    "        search_engine.add_corpus(key,text)\n",
    "    A = 3   \n",
    "    while A:\n",
    "        query = input()\n",
    "        results = search_engine.search(query)\n",
    "        print('found {} result(s): '.format(len(results)))\n",
    "        for result in results:\n",
    "            print(result)\n",
    "        A= A-1"
   ]
  },
  {
   "cell_type": "code",
   "execution_count": 26,
   "metadata": {},
   "outputs": [],
   "source": [
    "class SimpleEnigine(SearchEngineBase):\n",
    "    def __init__(self):\n",
    "        super(SimpleEnigine,self).__init__()\n",
    "        self.__id_to_texts = {}\n",
    "    \n",
    "    def process_corpus(self,key,texts):\n",
    "        self.__id_to_texts[key] = texts\n",
    "    \n",
    "    def search(self,query):\n",
    "        results = []\n",
    "        for id,text in self.__id_to_texts.items():\n",
    "            if query in text:\n",
    "                results.append(id)\n",
    "        return results\n"
   ]
  },
  {
   "cell_type": "code",
   "execution_count": 27,
   "metadata": {},
   "outputs": [
    {
     "name": "stdout",
     "output_type": "stream",
     "text": [
      "di\n",
      "found 1 result(s): \n",
      "text4\n",
      "ed\n",
      "found 3 result(s): \n",
      "text1\n",
      "text3\n",
      "text4\n",
      "a\n",
      "found 4 result(s): \n",
      "text1\n",
      "text2\n",
      "text3\n",
      "text4\n"
     ]
    }
   ],
   "source": [
    "search_engine = SimpleEnigine()\n",
    "main(search_engine)"
   ]
  },
  {
   "cell_type": "markdown",
   "metadata": {},
   "source": [
    "#### 'BAG OF WORDS'"
   ]
  },
  {
   "cell_type": "code",
   "execution_count": 31,
   "metadata": {},
   "outputs": [],
   "source": [
    "import re"
   ]
  },
  {
   "cell_type": "code",
   "execution_count": 48,
   "metadata": {},
   "outputs": [],
   "source": [
    "class BOWEngine(SearchEngineBase):\n",
    "    def __init__(self):\n",
    "        super(BOWEngine,self).__init__()\n",
    "        self.__id_to_words = {}\n",
    "        \n",
    "    def process_corpus(self,key,text):\n",
    "        self.__id_to_words[key] = self.parse_text_to_words(text)\n",
    "    \n",
    "    def search(self,query):\n",
    "        query_words = self.parse_text_to_words(query)\n",
    "        results = []\n",
    "        for id,words in self.__id_to_words.items():\n",
    "            if self.query_match(query_words,words):\n",
    "                results.append(id)\n",
    "        return results\n",
    "    \n",
    "    @staticmethod\n",
    "    def query_match(query_words,words):\n",
    "        for query_word in query_words:\n",
    "            if query_word not in words:\n",
    "                return False\n",
    "        return True\n",
    "    @staticmethod\n",
    "    def parse_text_to_words(text):\n",
    "        text = re.sub(r'[^\\w]',' ',text)\n",
    "        text = text.lower()\n",
    "        word_list = text.split(' ')\n",
    "        word_list = filter(None,word_list)\n",
    "        return set(word_list)\n",
    "    "
   ]
  },
  {
   "cell_type": "code",
   "execution_count": 49,
   "metadata": {},
   "outputs": [
    {
     "name": "stdout",
     "output_type": "stream",
     "text": [
      "i have a dream\n",
      "found 3 result(s): \n",
      "text1\n",
      "text2\n",
      "text3\n",
      "boy and girl\n",
      "found 0 result(s): \n",
      "boy\n",
      "found 0 result(s): \n"
     ]
    }
   ],
   "source": [
    "search_engine = BOWEngine()\n",
    "main(search_engine)"
   ]
  },
  {
   "cell_type": "markdown",
   "metadata": {},
   "source": [
    "####  倒叙索引"
   ]
  },
  {
   "cell_type": "code",
   "execution_count": 50,
   "metadata": {},
   "outputs": [],
   "source": [
    "class BOWInvertedIndexEngine(SearchEngineBase):\n",
    "    def __init__(self):\n",
    "        super(BOWInvertedIndexEngine,self).__init__()\n",
    "        self.inverted_index ={}\n",
    "    def process_corpus(self,key,text):\n",
    "        words = self.parse_text_to_words(text)\n",
    "        for word in words:\n",
    "            if word not in self.inverted_index:\n",
    "                self.inverted_index[word] = []\n",
    "            self.inverted_index[word].append(id)\n",
    "            \n",
    "    def search(self,query):\n",
    "        query_words = list(self.parse_text_to_words(query))\n",
    "        query_words_index = list()\n",
    "        for query_word in query_words:\n",
    "            query_words_index.append(0)\n",
    "            \n",
    "        for query_word in query_words:\n",
    "            if query_word not in self.inverted_index:\n",
    "                return []\n",
    "        \n",
    "        result = []\n",
    "        while True:\n",
    "            current_ids = []\n",
    "            for idx,query_word in enumerate(query_words):\n",
    "                current_ids = query_words_index[idx]\n",
    "                current_inverted_list = self.inverted_index[query_word]\n",
    "                \n",
    "                if current_index >= len(current_inverted_list):\n",
    "                    return result\n",
    "                current_ids.append(current_inverted_list[current_index])\n",
    "            if all( x==current_ids[0] for x in current_ids):\n",
    "                result.append(current_ids[0])\n",
    "                query_words_index = [x+1 for x in query_words_index]\n",
    "                continue\n",
    "            min_val = min(current_ids)\n",
    "            min_val_pos = current_ids.index(min_val)\n",
    "            query_words_index[min_val_pos] += 1\n",
    "        \n",
    "        @staticmethod\n",
    "        def parse_text_to_words(text):\n",
    "            text = re.sub(r'[^\\w]',' ',text)\n",
    "            text = text.lower()\n",
    "            word_list = text.split(' ')\n",
    "            word_list = filter(None,word_list)\n",
    "            return set(word_list)             "
   ]
  },
  {
   "cell_type": "markdown",
   "metadata": {},
   "source": [
    "####  缓存"
   ]
  },
  {
   "cell_type": "code",
   "execution_count": null,
   "metadata": {},
   "outputs": [],
   "source": [
    "import pylru"
   ]
  },
  {
   "cell_type": "code",
   "execution_count": 52,
   "metadata": {},
   "outputs": [],
   "source": [
    "class LRUCache(object):\n",
    "    def __init__(self,size = 32):\n",
    "        self.cache = pylru.lrucache(size)\n",
    "    \n",
    "    def has(self,key):\n",
    "        return key in self.cache\n",
    "    \n",
    "    def get(self,key):\n",
    "        return self.cache[key]\n",
    "    \n",
    "    def set(self,key,value):\n",
    "        self.cache[key]=value\n"
   ]
  },
  {
   "cell_type": "code",
   "execution_count": 53,
   "metadata": {},
   "outputs": [],
   "source": [
    "class BOWInvertedIndexEnigineWithCache(BOWInvertedIndexEngine,LRUCache):\n",
    "    def __init__(self):\n",
    "        super(BOWInvertedIndexEnigineWithCache,self).__init__()\n",
    "        LRUCache.__init__(self)\n",
    "    \n",
    "    def search(self,query):\n",
    "        if self.hae(query):\n",
    "            print('cache hit!')\n",
    "            return self.get(query)\n",
    "        result = super(BOWInvertedIndexEnigineWithCache,self).search(query)\n",
    "        self.set(query,result)\n",
    "        return result"
   ]
  },
  {
   "cell_type": "markdown",
   "metadata": {},
   "source": [
    "#### 多重继承的构造方法"
   ]
  },
  {
   "cell_type": "code",
   "execution_count": null,
   "metadata": {},
   "outputs": [],
   "source": [
    "super(BOWInvertedIndexEnigineWithCache,self).__init__()\n",
    "\n",
    "\n",
    "#最顶层的父类必须继承object"
   ]
  },
  {
   "cell_type": "code",
   "execution_count": null,
   "metadata": {},
   "outputs": [],
   "source": []
  }
 ],
 "metadata": {
  "kernelspec": {
   "display_name": "Python 3",
   "language": "python",
   "name": "python3"
  },
  "language_info": {
   "codemirror_mode": {
    "name": "ipython",
    "version": 3
   },
   "file_extension": ".py",
   "mimetype": "text/x-python",
   "name": "python",
   "nbconvert_exporter": "python",
   "pygments_lexer": "ipython3",
   "version": "3.7.3"
  },
  "toc": {
   "base_numbering": 1,
   "nav_menu": {},
   "number_sections": true,
   "sideBar": true,
   "skip_h1_title": false,
   "title_cell": "Table of Contents",
   "title_sidebar": "Contents",
   "toc_cell": false,
   "toc_position": {},
   "toc_section_display": true,
   "toc_window_display": false
  },
  "varInspector": {
   "cols": {
    "lenName": 16,
    "lenType": 16,
    "lenVar": 40
   },
   "kernels_config": {
    "python": {
     "delete_cmd_postfix": "",
     "delete_cmd_prefix": "del ",
     "library": "var_list.py",
     "varRefreshCmd": "print(var_dic_list())"
    },
    "r": {
     "delete_cmd_postfix": ") ",
     "delete_cmd_prefix": "rm(",
     "library": "var_list.r",
     "varRefreshCmd": "cat(var_dic_list()) "
    }
   },
   "types_to_exclude": [
    "module",
    "function",
    "builtin_function_or_method",
    "instance",
    "_Feature"
   ],
   "window_display": false
  }
 },
 "nbformat": 4,
 "nbformat_minor": 2
}
