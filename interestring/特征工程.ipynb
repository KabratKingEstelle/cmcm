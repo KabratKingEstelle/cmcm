{
 "cells": [
  {
   "cell_type": "markdown",
   "metadata": {},
   "source": [
    "### 单一变量分析"
   ]
  },
  {
   "cell_type": "markdown",
   "metadata": {},
   "source": [
    "#### 分类变量"
   ]
  },
  {
   "cell_type": "code",
   "execution_count": null,
   "metadata": {},
   "outputs": [],
   "source": [
    "类别过多，类别合并，"
   ]
  },
  {
   "cell_type": "code",
   "execution_count": null,
   "metadata": {},
   "outputs": [],
   "source": [
    "为什么用了pca降维"
   ]
  },
  {
   "cell_type": "code",
   "execution_count": null,
   "metadata": {},
   "outputs": [],
   "source": []
  },
  {
   "cell_type": "code",
   "execution_count": null,
   "metadata": {},
   "outputs": [],
   "source": [
    "怎么识别信息流异常如刷赞之类的，我说收集统计特征等，"
   ]
  },
  {
   "cell_type": "raw",
   "metadata": {},
   "source": [
    "然后问特征工程怎么做，有说缺失值标准化相关，然后问ip地址字符串类的特征怎么做。"
   ]
  },
  {
   "cell_type": "raw",
   "metadata": {},
   "source": [
    "可以用什么模型，我说分类的比如lr,决策树，随机森林这些，没标签的话就聚类，感觉好像还有专门的异常检测但是没想起来。"
   ]
  },
  {
   "cell_type": "raw",
   "metadata": {},
   "source": [
    "提问问题，没感觉有什么好问的，有点儿尴尬。"
   ]
  },
  {
   "cell_type": "raw",
   "metadata": {},
   "source": [
    "线性回归： 回归场景，实数，直线\n",
    "感知机： 分类场景，阶越函数，\n",
    "逻辑回归： 分类场景，概率值，logistic【不改变排序性】"
   ]
  },
  {
   "cell_type": "markdown",
   "metadata": {},
   "source": [
    "#### 最大似然"
   ]
  },
  {
   "cell_type": "raw",
   "metadata": {},
   "source": [
    "贝叶斯原理"
   ]
  },
  {
   "cell_type": "raw",
   "metadata": {},
   "source": [
    "如果一个规律，最大可能产生该观察结果，那么它可能是正确的"
   ]
  },
  {
   "cell_type": "raw",
   "metadata": {},
   "source": [
    "P(H|D) ~ p(H)*P(D|H),每个假设的先验概率是P(H)相同"
   ]
  },
  {
   "cell_type": "raw",
   "metadata": {},
   "source": [
    "1.特征有哪些\n",
    "2.无偏足够数据\n",
    "3.确定X与y的关系\n",
    "4.设定衡量标准\n",
    "5.按人设定方法寻找\n",
    "6.依据已知的样本和标准，判断是不是最好\n",
    "7.模型评估"
   ]
  },
  {
   "cell_type": "raw",
   "metadata": {},
   "source": [
    "均方误差的贝叶斯理解"
   ]
  },
  {
   "cell_type": "raw",
   "metadata": {},
   "source": [
    "误差服从正态分布\n",
    "p(x) = e**(-y**2/2)"
   ]
  },
  {
   "cell_type": "code",
   "execution_count": null,
   "metadata": {
    "collapsed": true
   },
   "outputs": [],
   "source": [
    "优化目标：某种计算模型拟合数据误差的方式，越小越好。\n",
    "目标决定解决问题的上线"
   ]
  }
 ],
 "metadata": {
  "kernelspec": {
   "display_name": "Python 3",
   "language": "python",
   "name": "python3"
  },
  "language_info": {
   "codemirror_mode": {
    "name": "ipython",
    "version": 3
   },
   "file_extension": ".py",
   "mimetype": "text/x-python",
   "name": "python",
   "nbconvert_exporter": "python",
   "pygments_lexer": "ipython3",
   "version": "3.7.3"
  },
  "toc": {
   "base_numbering": 1,
   "nav_menu": {},
   "number_sections": true,
   "sideBar": true,
   "skip_h1_title": false,
   "title_cell": "Table of Contents",
   "title_sidebar": "Contents",
   "toc_cell": false,
   "toc_position": {},
   "toc_section_display": true,
   "toc_window_display": false
  },
  "varInspector": {
   "cols": {
    "lenName": 16,
    "lenType": 16,
    "lenVar": 40
   },
   "kernels_config": {
    "python": {
     "delete_cmd_postfix": "",
     "delete_cmd_prefix": "del ",
     "library": "var_list.py",
     "varRefreshCmd": "print(var_dic_list())"
    },
    "r": {
     "delete_cmd_postfix": ") ",
     "delete_cmd_prefix": "rm(",
     "library": "var_list.r",
     "varRefreshCmd": "cat(var_dic_list()) "
    }
   },
   "types_to_exclude": [
    "module",
    "function",
    "builtin_function_or_method",
    "instance",
    "_Feature"
   ],
   "window_display": false
  }
 },
 "nbformat": 4,
 "nbformat_minor": 2
}
