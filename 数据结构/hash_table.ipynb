{
 "cells": [
  {
   "cell_type": "code",
   "execution_count": 11,
   "metadata": {},
   "outputs": [],
   "source": [
    "class Array(object):\n",
    "    def __init__(self,size = 32,init=None):\n",
    "        self._size = size\n",
    "        self._items = [init]*size\n",
    "        \n",
    "    def __getitem__(self,index):\n",
    "        return self._items[index]\n",
    "    \n",
    "    def __setitem__(self,index,value):\n",
    "        self._items[index] = value\n",
    "        \n",
    "    def __len__(self):\n",
    "        return self._size\n",
    "    \n",
    "    def clear(self,value = None):\n",
    "        for i in range(len(self._items)):\n",
    "            self._items[i]=value\n",
    "    \n",
    "    def __iter__(self):\n",
    "        for item in self._items:\n",
    "            yield item\n",
    "        \n",
    "\n",
    "class Slot(object):\n",
    "    \"\"\"定义一个 hash 表数组的槽(slot 这里指的就是数组的一个位置)\n",
    "    hash table 就是一个 数组，每个数组的元素（也叫slot槽）是一个对象，对象包含两个属性 key 和 value。\n",
    "    注意，一个槽有三种状态，看你能否想明白。相比链接法解决冲突，探查法删除一个 key 的操作稍微复杂。\n",
    "    1.从未使用 HashMap.UNUSED。此槽没有被使用和冲突过，查找时只要找到 UNUSED 就不用再继续探查了\n",
    "    2.使用过但是 remove 了，此时是 HashMap.EMPTY，该探查点后边的元素仍然可能是有key的，需要继续查找\n",
    "    3.槽正在使用 Slot 节点\n",
    "    \"\"\"\n",
    "    def __init__(self,key,value):\n",
    "        self.key,self.value = key,value\n",
    "    \n",
    "\n",
    "class HashTable(object):\n",
    "    UNUSED = None # unused\n",
    "    EMPTY = Slot(None,None)# used but delete\n",
    "    \n",
    "    def __init__(self):\n",
    "        self._table = Array(8,init=HashTable.UNUSED)  # keep 2**i\n",
    "        self.length = 0\n",
    "        \n",
    "    @property\n",
    "    def _load_factor(self):\n",
    "        return self.length /float(len(self._table))\n",
    "    \n",
    "    def __len__(self):\n",
    "        return self.length\n",
    "    \n",
    "    def _hash(self,key):\n",
    "        return abs(hash(key))%len(self._table)\n",
    "    \n",
    "    def _find_key(self,key):\n",
    "        \"\"\"\n",
    "        解释一个 slot 为 UNUSED 和 EMPTY 的区别\n",
    "        因为使用的是二次探查的方式，假如有两个元素 A，B 冲突了，首先A hash 得到是 slot 下标5，A 放到了第5个槽，之后插入 B 因为冲突了，所以继续根据二次探查方式放到了 slot8。\n",
    "        然后删除 A，槽 5 被置为 EMPTY。然后我去查找 B，第一次 hash 得到的是 槽5，但是这个时候我还是需要第二次计算 hash 才能找到 B。但是如果槽是 UNUSED 我就不用继续找了，我认为 B 就是不存在的元素。这个就是 UNUSED 和 EMPTY 的区别。\n",
    "        \"\"\"  \n",
    "        origin_index = index = self._hash(key)\n",
    "        _len = len(self._table)\n",
    "        \n",
    "        while self._table[index] is not HashTable.UNUSED:\n",
    "            if self._table[index] is HashTable.EMPTY:\n",
    "                index = (index*5+1)%_len\n",
    "                if index == origin_index:\n",
    "                    break\n",
    "                continue\n",
    "            if self._table[index].key == key:\n",
    "                return index\n",
    "            else:\n",
    "                index = (index*5+1)%_len\n",
    "                if index == origin_index:\n",
    "                    break\n",
    "        \n",
    "        return None\n",
    "    \n",
    "    def _find_slot_for_insert(self,key):\n",
    "        index = self._hash(key)\n",
    "        _len = len(self._table)\n",
    "        while not self._slot_can_insert(index):\n",
    "            index = (index*5+1)%_len\n",
    "        return index\n",
    "    \n",
    "    def _slot_can_insert(self,index):\n",
    "        return (self._table[index] is HashTable.EMPTY or self._table[index] is HashTable.UNUSED)\n",
    "    \n",
    "    def __contains__(self,key):\n",
    "        index = self._find_key(key)\n",
    "        return index is not None\n",
    "    \n",
    "    def add(self,key,value):\n",
    "        if key in self:\n",
    "            index = self._find_key(key)\n",
    "            self._table[index].value = value\n",
    "            return False\n",
    "        else:\n",
    "            index = self._find_slot_for_insert(key)\n",
    "            self._table[index] = Slot(key,value)\n",
    "            self.length +=1\n",
    "            if self._load_factor >=0.8:\n",
    "                self._rehash()\n",
    "            return True\n",
    "        \n",
    "    def _rehash(self):\n",
    "        old_table=self._table\n",
    "        newsize = len(self._table)*2\n",
    "        self._table = Array(newsize,HashTable.UNUSED)\n",
    "        \n",
    "        self.length = 0\n",
    "        \n",
    "        for slot in old_table:\n",
    "            if slot is not HashTable.UNUSED and slot is not HashTable.EMPTY:\n",
    "                index = self._find_slot_for_insert(slot.key)\n",
    "                self._table[index]=slot\n",
    "                self.length+=1\n",
    "    \n",
    "    def get(self,key,default=None):\n",
    "        index = self._find_key(key)\n",
    "        if index is None:\n",
    "            raise KeyError\n",
    "        else:\n",
    "            return self._table[index].value\n",
    "        \n",
    "    def remove(self,key):\n",
    "        index = self._find_key(key)\n",
    "        if index is None:\n",
    "            raise KeyError()\n",
    "        value = self._table[index].value\n",
    "        self.length -=1\n",
    "        self._table[index] = HashTable.EMPTY\n",
    "        return value\n",
    "    \n",
    "    def __iter__(self):\n",
    "        for slot in self._table:\n",
    "            if slot not in (HashTable.EMPTY,HashTable.UNUSED):\n",
    "                yield slot.key\n",
    "        \n",
    "        \n",
    "        "
   ]
  },
  {
   "cell_type": "code",
   "execution_count": 9,
   "metadata": {},
   "outputs": [
    {
     "data": {
      "text/plain": [
       "True"
      ]
     },
     "execution_count": 9,
     "metadata": {},
     "output_type": "execute_result"
    }
   ],
   "source": [
    "hash(1)==hash(1-0)"
   ]
  },
  {
   "cell_type": "code",
   "execution_count": 12,
   "metadata": {},
   "outputs": [],
   "source": [
    "h = HashTable()"
   ]
  },
  {
   "cell_type": "code",
   "execution_count": 13,
   "metadata": {},
   "outputs": [
    {
     "data": {
      "text/plain": [
       "True"
      ]
     },
     "execution_count": 13,
     "metadata": {},
     "output_type": "execute_result"
    }
   ],
   "source": [
    "h.add('a',0)"
   ]
  },
  {
   "cell_type": "code",
   "execution_count": 15,
   "metadata": {},
   "outputs": [
    {
     "data": {
      "text/plain": [
       "True"
      ]
     },
     "execution_count": 15,
     "metadata": {},
     "output_type": "execute_result"
    }
   ],
   "source": [
    "h.add('b',0)"
   ]
  },
  {
   "cell_type": "code",
   "execution_count": 28,
   "metadata": {},
   "outputs": [
    {
     "data": {
      "text/plain": [
       "'b'"
      ]
     },
     "execution_count": 28,
     "metadata": {},
     "output_type": "execute_result"
    }
   ],
   "source": [
    "h._table._items[3].key"
   ]
  },
  {
   "cell_type": "code",
   "execution_count": 36,
   "metadata": {},
   "outputs": [
    {
     "data": {
      "text/plain": [
       "0"
      ]
     },
     "execution_count": 36,
     "metadata": {},
     "output_type": "execute_result"
    }
   ],
   "source": [
    "h.get('b')"
   ]
  },
  {
   "cell_type": "code",
   "execution_count": 53,
   "metadata": {},
   "outputs": [],
   "source": [
    "h = HashTable()"
   ]
  },
  {
   "cell_type": "code",
   "execution_count": 54,
   "metadata": {},
   "outputs": [],
   "source": [
    "for i in enumerate([0,0,1,1,1,4,5]):\n",
    "    h.add(i[1],i[0])"
   ]
  },
  {
   "cell_type": "code",
   "execution_count": 55,
   "metadata": {},
   "outputs": [
    {
     "data": {
      "text/plain": [
       "[<__main__.Slot at 0x10a69e7b8>,\n",
       " <__main__.Slot at 0x10a69e4a8>,\n",
       " None,\n",
       " None,\n",
       " <__main__.Slot at 0x10a69e358>,\n",
       " <__main__.Slot at 0x10a69e2b0>,\n",
       " None,\n",
       " None]"
      ]
     },
     "execution_count": 55,
     "metadata": {},
     "output_type": "execute_result"
    }
   ],
   "source": [
    "h._table._items"
   ]
  },
  {
   "cell_type": "code",
   "execution_count": 59,
   "metadata": {},
   "outputs": [
    {
     "data": {
      "text/plain": [
       "4"
      ]
     },
     "execution_count": 59,
     "metadata": {},
     "output_type": "execute_result"
    }
   ],
   "source": [
    "h._table._items[1].value"
   ]
  },
  {
   "cell_type": "code",
   "execution_count": null,
   "metadata": {},
   "outputs": [],
   "source": []
  }
 ],
 "metadata": {
  "kernelspec": {
   "display_name": "Python 3",
   "language": "python",
   "name": "python3"
  },
  "language_info": {
   "codemirror_mode": {
    "name": "ipython",
    "version": 3
   },
   "file_extension": ".py",
   "mimetype": "text/x-python",
   "name": "python",
   "nbconvert_exporter": "python",
   "pygments_lexer": "ipython3",
   "version": "3.7.3"
  },
  "toc": {
   "base_numbering": 1,
   "nav_menu": {},
   "number_sections": true,
   "sideBar": true,
   "skip_h1_title": false,
   "title_cell": "Table of Contents",
   "title_sidebar": "Contents",
   "toc_cell": false,
   "toc_position": {},
   "toc_section_display": true,
   "toc_window_display": false
  },
  "varInspector": {
   "cols": {
    "lenName": 16,
    "lenType": 16,
    "lenVar": 40
   },
   "kernels_config": {
    "python": {
     "delete_cmd_postfix": "",
     "delete_cmd_prefix": "del ",
     "library": "var_list.py",
     "varRefreshCmd": "print(var_dic_list())"
    },
    "r": {
     "delete_cmd_postfix": ") ",
     "delete_cmd_prefix": "rm(",
     "library": "var_list.r",
     "varRefreshCmd": "cat(var_dic_list()) "
    }
   },
   "types_to_exclude": [
    "module",
    "function",
    "builtin_function_or_method",
    "instance",
    "_Feature"
   ],
   "window_display": false
  }
 },
 "nbformat": 4,
 "nbformat_minor": 2
}
