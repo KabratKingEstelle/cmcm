{
 "cells": [
  {
   "cell_type": "code",
   "execution_count": 2,
   "metadata": {},
   "outputs": [],
   "source": [
    "from __future__ import absolute_import,unicode_literals,division\n",
    "__all__ = ['Node','tree','bst','heap','build']"
   ]
  },
  {
   "cell_type": "code",
   "execution_count": 5,
   "metadata": {},
   "outputs": [],
   "source": [
    "import heapq\n",
    "import random\n",
    "import numbers"
   ]
  },
  {
   "cell_type": "code",
   "execution_count": 4,
   "metadata": {},
   "outputs": [],
   "source": [
    "class BinaryTreeError(Exception):\n",
    "    \"\"\"Base (catch-all) binarytree exception.\"\"\"\n",
    "\n",
    "\n",
    "class NodeIndexError(BinaryTreeError):\n",
    "    \"\"\"Node index was invalid.\"\"\"\n",
    "\n",
    "\n",
    "class NodeModifyError(BinaryTreeError):\n",
    "    \"\"\"User tried to overwrite or delete the root node.\"\"\"\n",
    "\n",
    "\n",
    "class NodeNotFoundError(BinaryTreeError):\n",
    "    \"\"\"Node was missing from the binary tree.\"\"\"\n",
    "\n",
    "\n",
    "class NodeReferenceError(BinaryTreeError):\n",
    "    \"\"\"Node reference was invalid (e.g. cyclic reference).\"\"\"\n",
    "\n",
    "\n",
    "class NodeTypeError(BinaryTreeError):\n",
    "    \"\"\"Node was not an instance of :class:`binarytree.Node`.\"\"\"\n",
    "\n",
    "\n",
    "class NodeValueError(BinaryTreeError):\n",
    "    \"\"\"Node value was not a number (e.g. int, float).\"\"\"\n",
    "\n",
    "\n",
    "class TreeHeightError(BinaryTreeError):\n",
    "    \"\"\"Tree height was invalid.\"\"\""
   ]
  },
  {
   "cell_type": "code",
   "execution_count": null,
   "metadata": {},
   "outputs": [],
   "source": [
    "def _is_balanced(root):\n",
    "    if root is None:\n",
    "        return 0\n",
    "    left = _is_balanced(root.left)\n",
    "    if left <0:\n",
    "        return -1\n",
    "    right = _is_balanced(root.right)\n",
    "    if right <0:\n",
    "        return -1\n",
    "    return -1 if abs(left-right)>1 else max(left,right)+1\n",
    "    \n",
    "    \n",
    "    \n",
    "    \n",
    "    \n",
    "    \n",
    "    \n",
    "    \n",
    "    \n",
    "    "
   ]
  }
 ],
 "metadata": {
  "kernelspec": {
   "display_name": "Python 3",
   "language": "python",
   "name": "python3"
  },
  "language_info": {
   "codemirror_mode": {
    "name": "ipython",
    "version": 3
   },
   "file_extension": ".py",
   "mimetype": "text/x-python",
   "name": "python",
   "nbconvert_exporter": "python",
   "pygments_lexer": "ipython3",
   "version": "3.7.3"
  },
  "toc": {
   "base_numbering": 1,
   "nav_menu": {},
   "number_sections": true,
   "sideBar": true,
   "skip_h1_title": false,
   "title_cell": "Table of Contents",
   "title_sidebar": "Contents",
   "toc_cell": false,
   "toc_position": {},
   "toc_section_display": true,
   "toc_window_display": false
  },
  "varInspector": {
   "cols": {
    "lenName": 16,
    "lenType": 16,
    "lenVar": 40
   },
   "kernels_config": {
    "python": {
     "delete_cmd_postfix": "",
     "delete_cmd_prefix": "del ",
     "library": "var_list.py",
     "varRefreshCmd": "print(var_dic_list())"
    },
    "r": {
     "delete_cmd_postfix": ") ",
     "delete_cmd_prefix": "rm(",
     "library": "var_list.r",
     "varRefreshCmd": "cat(var_dic_list()) "
    }
   },
   "types_to_exclude": [
    "module",
    "function",
    "builtin_function_or_method",
    "instance",
    "_Feature"
   ],
   "window_display": false
  }
 },
 "nbformat": 4,
 "nbformat_minor": 2
}
