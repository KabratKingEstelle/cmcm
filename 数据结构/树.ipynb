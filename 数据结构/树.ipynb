{
 "cells": [
  {
   "cell_type": "markdown",
   "metadata": {},
   "source": [
    "#### 二叉树"
   ]
  },
  {
   "cell_type": "code",
   "execution_count": 1,
   "metadata": {},
   "outputs": [],
   "source": [
    "from collections import deque"
   ]
  },
  {
   "cell_type": "code",
   "execution_count": 4,
   "metadata": {},
   "outputs": [],
   "source": [
    "class Queue(object):\n",
    "    def __init__(self):\n",
    "        self._itmes = deque()\n",
    "        \n",
    "    def append(self,value):\n",
    "        return self._itmes.append(value)\n",
    "    \n",
    "    def pop(self):\n",
    "        return self._itmes.popleft()\n",
    "    \n",
    "    def empty(self):\n",
    "        return len(self._itmes)==0\n",
    "    \n",
    "class Stack(object):\n",
    "    def __init__(self):\n",
    "        self._itmes = deque()\n",
    "        \n",
    "    def push(self,value):\n",
    "        return self._itmes.append(value)\n",
    "    \n",
    "    def pop(self):\n",
    "        return self._itmes.pop()\n",
    "    \n",
    "    def empty(self):\n",
    "        return len(self._itmes)==0"
   ]
  },
  {
   "cell_type": "code",
   "execution_count": 3,
   "metadata": {},
   "outputs": [],
   "source": [
    "class BinTreeNode(object):\n",
    "    def __init__(self,data,left=None,right=None):\n",
    "        self.data,self.left,self.right = data,left,right\n",
    "\n",
    "class BinTree(object):\n",
    "    def __init__(self,root=None):\n",
    "        self.root = root\n",
    "        \n",
    "    @classmethod\n",
    "    def build_from(cls,node_list):\n",
    "        \"\"\"build_from\n",
    "        :param node_list: {'data': 'A', 'left': None, 'right': None, 'is_root': False}\n",
    "        \"\"\"\n",
    "        node_dict={}\n",
    "        for node_data in node_list:\n",
    "            data = node_data['data']\n",
    "            node_dict[data] = BinTreeNode(data)\n",
    "        \n",
    "        for node_data in node_list:\n",
    "            data = node_data['data']\n",
    "            node = node_dict[data]\n",
    "            if node_data['is_root']:\n",
    "                root = node\n",
    "            node.left = node_dict.get(node_data['left'])\n",
    "            node.right = node_dict.get(node_data['right'])\n",
    "        return cls(root)\n",
    "    \n",
    "    def preorder_trav(self,subtree):\n",
    "        '''\n",
    "        先(根)序遍历\n",
    "        '''\n",
    "        if subtree is not None:\n",
    "            print(subtree.data)\n",
    "            self.preorder_trav(subtree.left)\n",
    "            self.preorder_trav(subtree.right)\n",
    "            \n",
    "    def preorder_trav_use_stack(self,subtree):\n",
    "        s = Stack()\n",
    "        if subtree:\n",
    "            s.push(subtree)\n",
    "            while not s.empty():\n",
    "                top_node = s.pop()\n",
    "                print(top_node.data)\n",
    "                if top_node.right:\n",
    "                    s.push(top_node.right)\n",
    "                if top_node.left:\n",
    "                    s.push(top_node.left)\n",
    "    def inorder_trav(self,subtree):\n",
    "        if subtree is not None:\n",
    "            self.inorder_trav(subtree.left)\n",
    "            print(subtree.data)\n",
    "            self.inorder_trav(subtree.right)\n",
    "    \n",
    "    def yield_inorder(self,subtree):\n",
    "        if subtree:\n",
    "            yield from self.inorder_trav(subtree.left)\n",
    "            yield subtree.val\n",
    "            yield from self.inorder_trav(subtree.right)\n",
    "            \n",
    "    def reverse(self,subtree):\n",
    "        if subtree is not None:\n",
    "            subtree.left, subtree.right = subtree.right,subtree.left\n",
    "            self.reverse(subtree.left)\n",
    "            self.reverse(subtree.right)\n",
    "        \n",
    "    def layer_trav(self,subtree):\n",
    "        '''\n",
    "        层序遍历比较直白，就是从根节点开始按照一层一层的方式遍历节点。\n",
    "        从根节点开始，之后把所有当前层的孩子都按照从左到右的顺序放到一个列表里，下一次遍历所有这些孩子就可以了。\n",
    "        '''\n",
    "        cur_nodes = [subtree]\n",
    "        next_nodes = []\n",
    "        while cur_nodes or next_nodes:\n",
    "            for node in cur_nodes:\n",
    "                print(node.data)\n",
    "                if node.left:\n",
    "                    next_nodes.append(node.left)\n",
    "                if node.right:\n",
    "                    next_nodes.append(node.right)\n",
    "            cur_nodes = next_nodes\n",
    "            next_nodes=[]\n",
    "    \n",
    "    def layer_trav_use_queue(self,subtree):\n",
    "        q = Queue()\n",
    "        q.append(subtree)\n",
    "        while not q.empty():\n",
    "            cur_node = q.pop()\n",
    "            print(cur_node.data)\n",
    "            if cur_node.left:\n",
    "                q.append(cur_node.left)\n",
    "            if cur_node.right:\n",
    "                q.append(cur_node.right)"
   ]
  },
  {
   "cell_type": "code",
   "execution_count": null,
   "metadata": {},
   "outputs": [],
   "source": []
  }
 ],
 "metadata": {
  "kernelspec": {
   "display_name": "Python 3",
   "language": "python",
   "name": "python3"
  },
  "language_info": {
   "codemirror_mode": {
    "name": "ipython",
    "version": 3
   },
   "file_extension": ".py",
   "mimetype": "text/x-python",
   "name": "python",
   "nbconvert_exporter": "python",
   "pygments_lexer": "ipython3",
   "version": "3.7.3"
  },
  "toc": {
   "base_numbering": 1,
   "nav_menu": {},
   "number_sections": true,
   "sideBar": true,
   "skip_h1_title": false,
   "title_cell": "Table of Contents",
   "title_sidebar": "Contents",
   "toc_cell": false,
   "toc_position": {},
   "toc_section_display": true,
   "toc_window_display": false
  },
  "varInspector": {
   "cols": {
    "lenName": 16,
    "lenType": 16,
    "lenVar": 40
   },
   "kernels_config": {
    "python": {
     "delete_cmd_postfix": "",
     "delete_cmd_prefix": "del ",
     "library": "var_list.py",
     "varRefreshCmd": "print(var_dic_list())"
    },
    "r": {
     "delete_cmd_postfix": ") ",
     "delete_cmd_prefix": "rm(",
     "library": "var_list.r",
     "varRefreshCmd": "cat(var_dic_list()) "
    }
   },
   "types_to_exclude": [
    "module",
    "function",
    "builtin_function_or_method",
    "instance",
    "_Feature"
   ],
   "window_display": false
  }
 },
 "nbformat": 4,
 "nbformat_minor": 2
}
