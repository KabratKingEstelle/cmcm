{
 "cells": [
  {
   "cell_type": "code",
   "execution_count": null,
   "metadata": {},
   "outputs": [],
   "source": [
    "class Solution(object):\n",
    "    def lengthOfLongestSubstring(self, s):\n",
    "        \"\"\"\n",
    "        :type s: str\n",
    "        :rtype: int\n",
    "        \"\"\"\n",
    "        maxsum = 0\n",
    "        for i ,val in enumerate(s):\n",
    "            subsum = 1\n",
    "            d = dict()\n",
    "            d[val] = 0\n",
    "            for j in s[i+1:]:\n",
    "                if j in d:\n",
    "                    break\n",
    "                else:\n",
    "                    d[j]=0\n",
    "                    subsum=subsum+1\n",
    "            \n",
    "            maxsum = max(maxsum,subsum)\n",
    "        return maxsum"
   ]
  },
  {
   "cell_type": "code",
   "execution_count": null,
   "metadata": {},
   "outputs": [],
   "source": [
    "so =Solution()\n",
    "s = \"abcedfkqjqb\"\n",
    "so.lengthOfLongestSubstring(s)"
   ]
  },
  {
   "cell_type": "code",
   "execution_count": null,
   "metadata": {},
   "outputs": [],
   "source": [
    "s[1]"
   ]
  },
  {
   "cell_type": "code",
   "execution_count": null,
   "metadata": {},
   "outputs": [],
   "source": [
    "s[1:]"
   ]
  },
  {
   "cell_type": "code",
   "execution_count": 18,
   "metadata": {},
   "outputs": [],
   "source": [
    "class Solution(object):\n",
    "    def longestPalindrome(self, s):\n",
    "        \"\"\"\n",
    "        :type s: str\n",
    "        :rtype: str\n",
    "        \"\"\"\n",
    "        resleft,resright = 0,0\n",
    "        tmp = 0\n",
    "        for i,val in enumerate(s):\n",
    "            subleft1,subright1 = i,i\n",
    "            subleft2,subright2 = i,i\n",
    "            for j in range(0,len(s)): ### aba\n",
    "                left = i-j\n",
    "                right = i+j\n",
    "                if left>=0 and right<len(s) and left<right:\n",
    "                    if s[left]==s[right]:\n",
    "                        subtmp1 = right-left\n",
    "                        if subtmp1>tmp:\n",
    "                            subleft1,subright1 = left,right\n",
    "                            resleft,resright = subleft1,subright1\n",
    "                            tmp = subtmp1\n",
    "                        \n",
    "            for j in range(0,len(s)): ### baaaab   \n",
    "                left,right = i+1-j,i+j\n",
    "                if left>=0 and right<len(s) and left<right:\n",
    "                    if s[left]==s[right]:\n",
    "                        subtmp2 =  right-left\n",
    "                        if subtmp2>tmp:\n",
    "                            subleft2,subright2 = left,right\n",
    "                            resleft,resright = subleft2,subright2\n",
    "                            tmp = subtmp2\n",
    "                       \n",
    "        \n",
    "        return s[resleft:resright+1]  \n",
    "        \n",
    "        "
   ]
  },
  {
   "cell_type": "code",
   "execution_count": 19,
   "metadata": {},
   "outputs": [],
   "source": [
    "s = Solution()"
   ]
  },
  {
   "cell_type": "code",
   "execution_count": 20,
   "metadata": {},
   "outputs": [
    {
     "name": "stdout",
     "output_type": "stream",
     "text": [
      "0 2 a c\n",
      "1 3 b d\n",
      "0 4 a a\n",
      "2 4 c a\n"
     ]
    },
    {
     "data": {
      "text/plain": [
       "'abcda'"
      ]
     },
     "execution_count": 20,
     "metadata": {},
     "output_type": "execute_result"
    }
   ],
   "source": [
    "s.longestPalindrome(\"abcda\")"
   ]
  },
  {
   "cell_type": "code",
   "execution_count": 123,
   "metadata": {},
   "outputs": [],
   "source": [
    "def convert(s, numRows):\n",
    "    \"\"\"\n",
    "    :type s: str\n",
    "    :type numRows: int\n",
    "    :rtype: str\n",
    "    \"\"\"\n",
    "    height = numRows\n",
    "    width = int(len(s)/(2*numRows-2)+1)\n",
    "    cc = list(np.array(['0']*height*(width+1)).reshape(height,width+1))\n",
    "    k = 0\n",
    "    for i in range(width+1):\n",
    "        if i%(numRows-1)==0 and k<len(s):\n",
    "            for j in range(height):\n",
    "                cc[j][i] = s[k]\n",
    "                k=k+1\n",
    "        if i%(numRows-1)!=0 and k<len(s):\n",
    "            cc[i%(numRows-1)][i] = s[k]\n",
    "            k=k+1\n",
    "    return cc "
   ]
  },
  {
   "cell_type": "code",
   "execution_count": 124,
   "metadata": {},
   "outputs": [],
   "source": [
    "cc = convert(['a','b','c','d','e','f','g'],3)"
   ]
  },
  {
   "cell_type": "code",
   "execution_count": 125,
   "metadata": {},
   "outputs": [
    {
     "data": {
      "text/plain": [
       "[array(['a', '0', 'e'], dtype='<U1'),\n",
       " array(['b', 'd', 'f'], dtype='<U1'),\n",
       " array(['c', '0', 'g'], dtype='<U1')]"
      ]
     },
     "execution_count": 125,
     "metadata": {},
     "output_type": "execute_result"
    }
   ],
   "source": [
    "cc"
   ]
  },
  {
   "cell_type": "code",
   "execution_count": 88,
   "metadata": {},
   "outputs": [
    {
     "data": {
      "text/plain": [
       "'0'"
      ]
     },
     "execution_count": 88,
     "metadata": {},
     "output_type": "execute_result"
    }
   ],
   "source": [
    "cc[2][1]"
   ]
  },
  {
   "cell_type": "code",
   "execution_count": null,
   "metadata": {},
   "outputs": [],
   "source": []
  }
 ],
 "metadata": {
  "kernelspec": {
   "display_name": "Python 3",
   "language": "python",
   "name": "python3"
  },
  "language_info": {
   "codemirror_mode": {
    "name": "ipython",
    "version": 3
   },
   "file_extension": ".py",
   "mimetype": "text/x-python",
   "name": "python",
   "nbconvert_exporter": "python",
   "pygments_lexer": "ipython3",
   "version": "3.7.3"
  },
  "toc": {
   "base_numbering": 1,
   "nav_menu": {},
   "number_sections": true,
   "sideBar": true,
   "skip_h1_title": false,
   "title_cell": "Table of Contents",
   "title_sidebar": "Contents",
   "toc_cell": false,
   "toc_position": {},
   "toc_section_display": true,
   "toc_window_display": false
  },
  "varInspector": {
   "cols": {
    "lenName": 16,
    "lenType": 16,
    "lenVar": 40
   },
   "kernels_config": {
    "python": {
     "delete_cmd_postfix": "",
     "delete_cmd_prefix": "del ",
     "library": "var_list.py",
     "varRefreshCmd": "print(var_dic_list())"
    },
    "r": {
     "delete_cmd_postfix": ") ",
     "delete_cmd_prefix": "rm(",
     "library": "var_list.r",
     "varRefreshCmd": "cat(var_dic_list()) "
    }
   },
   "types_to_exclude": [
    "module",
    "function",
    "builtin_function_or_method",
    "instance",
    "_Feature"
   ],
   "window_display": false
  }
 },
 "nbformat": 4,
 "nbformat_minor": 2
}
