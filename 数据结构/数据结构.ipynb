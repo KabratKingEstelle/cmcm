{
 "cells": [
  {
   "cell_type": "markdown",
   "metadata": {},
   "source": [
    "#### printN"
   ]
  },
  {
   "cell_type": "code",
   "execution_count": 18,
   "metadata": {},
   "outputs": [],
   "source": [
    "import time\n",
    "import numpy"
   ]
  },
  {
   "cell_type": "code",
   "execution_count": 17,
   "metadata": {},
   "outputs": [],
   "source": [
    "def PrintN1(N):\n",
    "    for i in range(N):\n",
    "        print(i)\n",
    "    return\n",
    "def PrintN2(N):\n",
    "    if(N):\n",
    "        PrintN2(N-1)\n",
    "        print(N)\n",
    "    return \n",
    "##解决问题跟空间利用有关"
   ]
  },
  {
   "cell_type": "markdown",
   "metadata": {},
   "source": [
    "#### 多项式"
   ]
  },
  {
   "cell_type": "code",
   "execution_count": 41,
   "metadata": {},
   "outputs": [],
   "source": [
    "def Cal_MN1(x,A):\n",
    "    res = 0\n",
    "    for i,a in enumerate(A):\n",
    "        res += a*np.power(x,i+1)\n",
    "    return res\n",
    "\n",
    "def Cal_MN2(x,A):\n",
    "    res =0\n",
    "    for a in A[::-1]:\n",
    "        res = x*(res+a)\n",
    "    return res"
   ]
  },
  {
   "cell_type": "code",
   "execution_count": 56,
   "metadata": {},
   "outputs": [
    {
     "name": "stdout",
     "output_type": "stream",
     "text": [
      "0.00016498565673828125 2354383468627930\n"
     ]
    }
   ],
   "source": [
    "A = [1,2,3,4,5,6,7,8,9,10,11,12,13,14,15,16,17,18,19,20]\n",
    "st = time.time()\n",
    "res = Cal_MN1(5,A)\n",
    "print(time.time()-st,res)"
   ]
  },
  {
   "cell_type": "code",
   "execution_count": 57,
   "metadata": {},
   "outputs": [
    {
     "name": "stdout",
     "output_type": "stream",
     "text": [
      "5.125999450683594e-05 2354383468627930\n"
     ]
    }
   ],
   "source": [
    "A = [1,2,3,4,5,6,7,8,9,10,11,12,13,14,15,16,17,18,19,20]\n",
    "st = time.time()\n",
    "res = Cal_MN2(5,A)\n",
    "print(time.time()-st,res)"
   ]
  },
  {
   "cell_type": "code",
   "execution_count": 40,
   "metadata": {},
   "outputs": [
    {
     "data": {
      "text/plain": [
       "8"
      ]
     },
     "execution_count": 40,
     "metadata": {},
     "output_type": "execute_result"
    }
   ],
   "source": [
    "np.power(2,3)"
   ]
  },
  {
   "cell_type": "code",
   "execution_count": 37,
   "metadata": {},
   "outputs": [
    {
     "data": {
      "text/plain": [
       "[3, 2, 1]"
      ]
     },
     "execution_count": 37,
     "metadata": {},
     "output_type": "execute_result"
    }
   ],
   "source": [
    "A[::-1]"
   ]
  },
  {
   "cell_type": "markdown",
   "metadata": {},
   "source": [
    "#### 最大子列和"
   ]
  },
  {
   "cell_type": "markdown",
   "metadata": {},
   "source": [
    "给定 ${A_{1},A_{2},....,A_{N}}$, \n",
    "求$f(i,j) = max(0,\\sum_{k=i}^{j} A_{k})$的最大值"
   ]
  },
  {
   "cell_type": "code",
   "execution_count": 58,
   "metadata": {},
   "outputs": [],
   "source": [
    "def MaxMin(A):\n",
    "    res = 0\n",
    "    for j in range(len(A)):\n",
    "        for i in range(j,len(A)):\n",
    "            tmp = 0\n",
    "            for k in range(i,j):\n",
    "                tmp += A[k]\n",
    "            res = max(res,tmp,0)\n",
    "    return res\n",
    "             "
   ]
  },
  {
   "cell_type": "code",
   "execution_count": 59,
   "metadata": {},
   "outputs": [],
   "source": [
    "def MaxMin1(A):\n",
    "    res = 0\n",
    "    for j in range(len(A)):\n",
    "        tmp = 0\n",
    "        for i in range(j,len(A)):\n",
    "            tmp += A[j]\n",
    "            if tmp>res:\n",
    "                res = tmp\n",
    "    return res\n",
    "                "
   ]
  },
  {
   "cell_type": "code",
   "execution_count": null,
   "metadata": {},
   "outputs": [],
   "source": [
    "### 分而治之\n",
    "#{4,-3,5,-2,-1,2,6,-2}\n",
    "\n",
    "def MaxMin2(A):\n",
    "    "
   ]
  },
  {
   "cell_type": "code",
   "execution_count": null,
   "metadata": {},
   "outputs": [],
   "source": [
    "def MaxMin3(A):\n",
    "    res,tmp=0,0\n",
    "    for i in range(len(A)):\n",
    "        tmp += A[i]\n",
    "        if tmp >res:\n",
    "            res = tmp\n",
    "        else if(tmp <0): #当前子列和小0，不可能使后面变大\n",
    "            tmp = 0\n",
    "    return res"
   ]
  }
 ],
 "metadata": {
  "kernelspec": {
   "display_name": "Python 3",
   "language": "python",
   "name": "python3"
  },
  "language_info": {
   "codemirror_mode": {
    "name": "ipython",
    "version": 3
   },
   "file_extension": ".py",
   "mimetype": "text/x-python",
   "name": "python",
   "nbconvert_exporter": "python",
   "pygments_lexer": "ipython3",
   "version": "3.7.3"
  },
  "toc": {
   "base_numbering": 1,
   "nav_menu": {},
   "number_sections": true,
   "sideBar": true,
   "skip_h1_title": false,
   "title_cell": "Table of Contents",
   "title_sidebar": "Contents",
   "toc_cell": false,
   "toc_position": {},
   "toc_section_display": true,
   "toc_window_display": false
  },
  "varInspector": {
   "cols": {
    "lenName": 16,
    "lenType": 16,
    "lenVar": 40
   },
   "kernels_config": {
    "python": {
     "delete_cmd_postfix": "",
     "delete_cmd_prefix": "del ",
     "library": "var_list.py",
     "varRefreshCmd": "print(var_dic_list())"
    },
    "r": {
     "delete_cmd_postfix": ") ",
     "delete_cmd_prefix": "rm(",
     "library": "var_list.r",
     "varRefreshCmd": "cat(var_dic_list()) "
    }
   },
   "types_to_exclude": [
    "module",
    "function",
    "builtin_function_or_method",
    "instance",
    "_Feature"
   ],
   "window_display": false
  }
 },
 "nbformat": 4,
 "nbformat_minor": 2
}
