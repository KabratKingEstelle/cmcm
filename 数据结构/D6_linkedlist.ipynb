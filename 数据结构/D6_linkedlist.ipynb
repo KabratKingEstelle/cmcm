{
 "cells": [
  {
   "cell_type": "code",
   "execution_count": 1,
   "metadata": {},
   "outputs": [],
   "source": [
    "from typing import Optional"
   ]
  },
  {
   "cell_type": "code",
   "execution_count": 3,
   "metadata": {},
   "outputs": [],
   "source": [
    "class Node:\n",
    "    def __init__(self,data:int,next_node =None):\n",
    "        self.data= data\n",
    "        self._next = next_node"
   ]
  },
  {
   "cell_type": "code",
   "execution_count": 9,
   "metadata": {},
   "outputs": [],
   "source": [
    "b = Node(2)"
   ]
  },
  {
   "cell_type": "code",
   "execution_count": null,
   "metadata": {},
   "outputs": [],
   "source": []
  },
  {
   "cell_type": "code",
   "execution_count": 10,
   "metadata": {},
   "outputs": [],
   "source": [
    "a = Node(3,b)"
   ]
  },
  {
   "cell_type": "code",
   "execution_count": 72,
   "metadata": {},
   "outputs": [],
   "source": [
    "class SinglyLinkedList:\n",
    "    def __init__(self):\n",
    "        self._head = None\n",
    "    \n",
    "    def find_by_value(self,value:int) -> Optional[Node]:\n",
    "        p = self._head\n",
    "        while p and p.data != value:\n",
    "            p = p._next\n",
    "        return p\n",
    "    \n",
    "    def find_by_index(self,index:int)->Optional[Node]:\n",
    "        p = self._head\n",
    "        position = 0\n",
    "        while p and position != index:\n",
    "            p = p._next\n",
    "            position +=1\n",
    "        return p\n",
    "    def insert_value_to_head(self,value:int):\n",
    "        new_node = Node(value)\n",
    "        self.insert_node_to_head(new_node)\n",
    "    \n",
    "    def insert_node_to_head(self,new_node:Node):\n",
    "        if new_node:\n",
    "            new_node._next = self._head\n",
    "            self._head = new_node\n",
    "    \n",
    "    def insert_value_after(self,node:Node,value:int):\n",
    "        new_node = Node(value)\n",
    "        self.insert_node_after(node,new_node)\n",
    "        \n",
    "    def insert_node_after(self,node:Node,new_node:Node):\n",
    "        if not node or not new_node:\n",
    "            return\n",
    "        new_node._next = node._next\n",
    "        node._next = new_node\n",
    "    \n",
    "    def insert_value_before(self,node:Node,value:int):\n",
    "        new_node = Node(value)\n",
    "        self.insert_node_before(node,new_node)\n",
    "        \n",
    "    def insert_node_before(self,node:Node,new_node = Node):\n",
    "        if not self._head or not node or not new_node:\n",
    "            return \n",
    "        if self._head == node:\n",
    "            self.insert_node_to_head(new_node)\n",
    "            return\n",
    "        current = self._head\n",
    "        while current._next and current._next != node:\n",
    "            current = current._next\n",
    "        if not current._next:\n",
    "            return\n",
    "        new_node._next = node\n",
    "        current._next = new_node\n",
    "    \n",
    "    def delete_by_node(self,node:Node):\n",
    "        if not self._head or not node:\n",
    "            return \n",
    "        if node._next:\n",
    "            node.data = node._next.data\n",
    "            node._next = node._next._next\n",
    "            return\n",
    "        current = self._head\n",
    "        while current and current._next != node:\n",
    "            current = current._next\n",
    "        if not current:\n",
    "            return \n",
    "        current._next = node._next\n",
    "    \n",
    "    def delete_by_value(self,value:int):\n",
    "        if not self._head or not value:\n",
    "            return\n",
    "        fake_head = Node(value+1)\n",
    "        fake_head._next = self._head\n",
    "        prev,current = fake_head,self._head\n",
    "        while current:\n",
    "            if current.data != value:\n",
    "                prev._next = current\n",
    "                prev = prev._next\n",
    "            current = current._next\n",
    "        if prev._next:\n",
    "            prev._next = None\n",
    "        self._head =fake_head._next\n",
    "        \n",
    "    def __repr__(self) ->str:\n",
    "        nums = []\n",
    "        current = self._head\n",
    "        while current:\n",
    "            nums.append(current.data)\n",
    "            current = current._next\n",
    "        return '->'.join(str(num) for num in nums)\n",
    "    \n",
    "    def __iter__(self):\n",
    "        node = self._head\n",
    "        while node:\n",
    "            yield node.data\n",
    "            node = node._next\n",
    "            \n",
    "    def print_all(self):\n",
    "        current = self._head\n",
    "        if current:\n",
    "            print(f\"{current.data}\",end = \"\")\n",
    "        while current:\n",
    "            print(f\"->{current.data}\",end = \"\")\n",
    "            current = current._next\n",
    "        print(\"\\n\",flush = True)"
   ]
  },
  {
   "cell_type": "code",
   "execution_count": 73,
   "metadata": {},
   "outputs": [],
   "source": [
    "L = SinglyLinkedList()"
   ]
  },
  {
   "cell_type": "code",
   "execution_count": 74,
   "metadata": {},
   "outputs": [
    {
     "data": {
      "text/plain": [
       "14->13->12->11->10->9->8->7->6->5->4->3->2->1->0"
      ]
     },
     "execution_count": 74,
     "metadata": {},
     "output_type": "execute_result"
    }
   ],
   "source": [
    "for i in range(15):\n",
    "    L.insert_value_to_head(i)\n",
    "L"
   ]
  },
  {
   "cell_type": "code",
   "execution_count": 75,
   "metadata": {},
   "outputs": [
    {
     "data": {
      "text/plain": [
       "9"
      ]
     },
     "execution_count": 75,
     "metadata": {},
     "output_type": "execute_result"
    }
   ],
   "source": [
    "node9 = L.find_by_value(9)\n",
    "node9.data"
   ]
  },
  {
   "cell_type": "code",
   "execution_count": 76,
   "metadata": {},
   "outputs": [
    {
     "data": {
      "text/plain": [
       "14->13->12->11->10->20->9->8->7->6->5->4->3->2->1->0"
      ]
     },
     "execution_count": 76,
     "metadata": {},
     "output_type": "execute_result"
    }
   ],
   "source": [
    "L.insert_value_before(node9,20)\n",
    "L"
   ]
  },
  {
   "cell_type": "code",
   "execution_count": 77,
   "metadata": {},
   "outputs": [
    {
     "data": {
      "text/plain": [
       "14->13->12->11->10->20->9->20->8->7->6->5->4->3->2->1->0"
      ]
     },
     "execution_count": 77,
     "metadata": {},
     "output_type": "execute_result"
    }
   ],
   "source": [
    "L.insert_value_after(node9,20)\n",
    "L"
   ]
  },
  {
   "cell_type": "code",
   "execution_count": 78,
   "metadata": {},
   "outputs": [],
   "source": [
    "p,f = L.delete_by_value(10)"
   ]
  },
  {
   "cell_type": "code",
   "execution_count": 90,
   "metadata": {},
   "outputs": [],
   "source": [
    "class Node:\n",
    "    def __init__(self,data,next_node=None):\n",
    "        self._data = data\n",
    "        self._next = next_node\n",
    "    \n",
    "    @property\n",
    "    def data(self):\n",
    "        return self._data\n",
    "    \n",
    "    @data.setter\n",
    "    def data(self,data):\n",
    "        self._data = data\n",
    "    @property\n",
    "    def next_node(self):\n",
    "        return self._next\n",
    "    @next_node.setter\n",
    "    def next_node(self,next_node):\n",
    "        self._next = next_node"
   ]
  },
  {
   "cell_type": "code",
   "execution_count": 109,
   "metadata": {},
   "outputs": [],
   "source": [
    "class SinglyLinkedList(object):\n",
    "    def __init__(self):\n",
    "        self.__head = None\n",
    "    \n",
    "    def find_by_value(self,value):\n",
    "        node = self._head\n",
    "        while (node is not None) and (node.data!=value):\n",
    "            node = node.next_node\n",
    "        return node\n",
    "    \n",
    "    def find_by_index(self,index):\n",
    "        node = self._head\n",
    "        pos = 0\n",
    "        while(node is not None) and (pos != index):\n",
    "            node = node.next_node\n",
    "            pos += 1\n",
    "        return node\n",
    "    \n",
    "    def insert_to_head(self,value):\n",
    "        node = Node(value)\n",
    "        node.next_node = self.__head\n",
    "        self.__head = node\n",
    "    \n",
    "    def insert_after(self,node,value):\n",
    "        if node is None:\n",
    "            return\n",
    "        new_node = Node(value)\n",
    "        new_node.next_node = node.next\n",
    "        node.next = new_node\n",
    "        \n",
    "    def insert_before(self,node,value):\n",
    "        if (node is None) or (self.__head is None):\n",
    "            return\n",
    "        \n",
    "        if node == self.__head:\n",
    "            self.insert_to_head(value)\n",
    "            return\n",
    "        \n",
    "        new_node = Node(value)\n",
    "        pro = self.__head\n",
    "        not_found = False\n",
    "        while pro.next_node != node:\n",
    "            if pro.next_node is None:\n",
    "                not_found = True\n",
    "                break\n",
    "            else:\n",
    "                pro = pro.next_node\n",
    "        if not not_found:\n",
    "            pro.next_node = new_node\n",
    "            new_node.next_node = node\n",
    "            \n",
    "    \n",
    "    def delete_by_node(self,node):\n",
    "        if self.__head is None:\n",
    "            return\n",
    "        \n",
    "        if node == self.__head:\n",
    "            self.__head = node.next_node\n",
    "        pro = self.__head\n",
    "        not_found = False\n",
    "        while pro.next_node != node:\n",
    "            if pro.next_node is None:\n",
    "                not_found = True\n",
    "                break\n",
    "            else:\n",
    "                pro = pro.next_node\n",
    "        if not not_found:\n",
    "            pro.next_node = node.next_node\n",
    "            \n",
    "    def delete_by_value(self,value):\n",
    "        if self.__head is None:\n",
    "            return\n",
    "        \n",
    "        if self.__head.data == value:\n",
    "            self.__head = self.__head.next_node\n",
    "            \n",
    "        pro = self.__head\n",
    "        node = self.__head.next_node\n",
    "        not_found = False\n",
    "        while node.data != value:\n",
    "            if node.next_node is None:\n",
    "                not_found = True\n",
    "                break\n",
    "            else:\n",
    "                pro = node\n",
    "                node = node.next_node\n",
    "        if not_found is False:\n",
    "            pro.next_node = node.next_node\n",
    "    \n",
    "    def delete_last_n_node(self,n):\n",
    "        fast = self.__head\n",
    "        slow = self.__head\n",
    "        step = 0\n",
    "        \n",
    "        while step<=n:\n",
    "            fast = fase.next_node\n",
    "            step +=1\n",
    "        while fast.next_node is not None:\n",
    "            tmp = slow\n",
    "            fast = fast.next_node\n",
    "            slow = slow.next_node\n",
    "        \n",
    "        tmp.next_node = slow.next_node\n",
    "            \n",
    "            \n",
    "    def find_mid_node(self):\n",
    "        fast = self.__head\n",
    "        slow = self.__head\n",
    "        while fast.next_node is not None:\n",
    "            fast = fast.next_node.next_node\n",
    "            slow = slow.next_node\n",
    "        \n",
    "        return slow\n",
    "    \n",
    "    def create_node(self,value):\n",
    "        return Node(value)\n",
    "    \n",
    "    def print_all(self):\n",
    "        pos = self.__head\n",
    "        if pos is None:\n",
    "            print('no data')\n",
    "            return \n",
    "        while pos.next_node is not None:\n",
    "            print(str(pos.data)+'->',end = \"\")\n",
    "            pos = pos.next_node\n",
    "        print(str(pos.data))\n",
    "        \n",
    "        \n",
    "    def reversed_self(self):\n",
    "        if self.__head is None of self.__head.next is None:\n",
    "            return\n",
    "        pre = self.__head\n",
    "        node = self.__head.next\n",
    "        while node is not None:\n",
    "            pre,node = self.__reversed_with_two_node(pre,node)\n",
    "        \n",
    "        self.__head.next = None\n",
    "        self.__head = pre\n",
    "        \n",
    "    def __reversed_with_two_node(self,pre,node):\n",
    "        tmp = node.next_node\n",
    "        node.next_node = pre\n",
    "        pre = node\n",
    "        node = tmp\n",
    "        return pre,node\n",
    "    \n",
    "    def has_ring(self):\n",
    "        fast = self.__head\n",
    "        slow = self.__head\n",
    "        while (fast.next_node.next_node is not None) and(fast is not None):\n",
    "            if fast == slow:\n",
    "                return True\n",
    "            fast = fast.next_node.next_node\n",
    "            slow = slow.next_node\n",
    "        return False"
   ]
  },
  {
   "cell_type": "code",
   "execution_count": 91,
   "metadata": {},
   "outputs": [],
   "source": [
    "A = SinglyLinkedList()"
   ]
  },
  {
   "cell_type": "code",
   "execution_count": 92,
   "metadata": {},
   "outputs": [],
   "source": [
    "for i in [1,2,3]:\n",
    "    A.insert_value_to_head(i)"
   ]
  },
  {
   "cell_type": "code",
   "execution_count": 104,
   "metadata": {},
   "outputs": [],
   "source": [
    "b= A._head.next_node"
   ]
  },
  {
   "cell_type": "code",
   "execution_count": 107,
   "metadata": {},
   "outputs": [],
   "source": [
    "b.data = 4"
   ]
  },
  {
   "cell_type": "code",
   "execution_count": 108,
   "metadata": {},
   "outputs": [
    {
     "data": {
      "text/plain": [
       "2->4->1"
      ]
     },
     "execution_count": 108,
     "metadata": {},
     "output_type": "execute_result"
    }
   ],
   "source": [
    "A"
   ]
  },
  {
   "cell_type": "code",
   "execution_count": null,
   "metadata": {},
   "outputs": [],
   "source": []
  }
 ],
 "metadata": {
  "kernelspec": {
   "display_name": "Python 3",
   "language": "python",
   "name": "python3"
  },
  "language_info": {
   "codemirror_mode": {
    "name": "ipython",
    "version": 3
   },
   "file_extension": ".py",
   "mimetype": "text/x-python",
   "name": "python",
   "nbconvert_exporter": "python",
   "pygments_lexer": "ipython3",
   "version": "3.7.3"
  },
  "toc": {
   "base_numbering": 1,
   "nav_menu": {},
   "number_sections": true,
   "sideBar": true,
   "skip_h1_title": false,
   "title_cell": "Table of Contents",
   "title_sidebar": "Contents",
   "toc_cell": false,
   "toc_position": {},
   "toc_section_display": true,
   "toc_window_display": false
  },
  "varInspector": {
   "cols": {
    "lenName": 16,
    "lenType": 16,
    "lenVar": 40
   },
   "kernels_config": {
    "python": {
     "delete_cmd_postfix": "",
     "delete_cmd_prefix": "del ",
     "library": "var_list.py",
     "varRefreshCmd": "print(var_dic_list())"
    },
    "r": {
     "delete_cmd_postfix": ") ",
     "delete_cmd_prefix": "rm(",
     "library": "var_list.r",
     "varRefreshCmd": "cat(var_dic_list()) "
    }
   },
   "types_to_exclude": [
    "module",
    "function",
    "builtin_function_or_method",
    "instance",
    "_Feature"
   ],
   "window_display": false
  }
 },
 "nbformat": 4,
 "nbformat_minor": 2
}
