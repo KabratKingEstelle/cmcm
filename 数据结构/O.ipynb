{
 "cells": [
  {
   "cell_type": "markdown",
   "metadata": {},
   "source": [
    "####  MaxReapeatN"
   ]
  },
  {
   "cell_type": "markdown",
   "metadata": {},
   "source": [
    "Given a list lst and a number N, create a new list\n",
    "that contains each number of the list at most N times without reordering.\n",
    "For example if N = 2, and the input is [1,2,3,1,2,1,2,3], you take [1,2,3,1,2], \n",
    "drop the next [1,2] since this would lead to 1 and 2 being in the result 3 times, and then take 3, \n",
    "which leads to [1,2,3,1,2,3]"
   ]
  },
  {
   "cell_type": "code",
   "execution_count": 11,
   "metadata": {},
   "outputs": [],
   "source": [
    "def maxrepeatN(A,N):\n",
    "    s = []\n",
    "    k = dict()\n",
    "    for i in A:\n",
    "        if i in k.keys():\n",
    "            k[i]+=1\n",
    "        else:\n",
    "            k[i] = 1\n",
    "        if k[i] <=N:\n",
    "            s.append(i)\n",
    "    return s"
   ]
  },
  {
   "cell_type": "code",
   "execution_count": 12,
   "metadata": {},
   "outputs": [
    {
     "data": {
      "text/plain": [
       "[1, 2, 3, 1, 2, 3, 4]"
      ]
     },
     "execution_count": 12,
     "metadata": {},
     "output_type": "execute_result"
    }
   ],
   "source": [
    "maxrepeatN([1,2,3,1,2,3,1,2,4],2)"
   ]
  },
  {
   "cell_type": "markdown",
   "metadata": {},
   "source": [
    "\"\"\"\n",
    "Implement Flatten Arrays.\n",
    "Given an array that may contain nested arrays,\n",
    "produce a single resultant array.\n",
    "\"\"\""
   ]
  },
  {
   "cell_type": "markdown",
   "metadata": {},
   "source": [
    "####  Flatten"
   ]
  },
  {
   "cell_type": "code",
   "execution_count": 61,
   "metadata": {},
   "outputs": [],
   "source": [
    "def flattenArray(A):\n",
    "    tmp = []\n",
    "    res = []\n",
    "    for i in A:\n",
    "        if isinstance(i,(list,dict)):\n",
    "            tmp = flattenArray(i)\n",
    "            res.extend(tmp)\n",
    "        else:\n",
    "            res.append(i)\n",
    "    return res"
   ]
  },
  {
   "cell_type": "code",
   "execution_count": 63,
   "metadata": {},
   "outputs": [
    {
     "data": {
      "text/plain": [
       "[1, 2, 1, 2, 3, 1, 2, 1, 2]"
      ]
     },
     "execution_count": 63,
     "metadata": {},
     "output_type": "execute_result"
    }
   ],
   "source": [
    "flattenArray([1,2,[1,2,3],[1,2,[1,2]]])"
   ]
  },
  {
   "cell_type": "markdown",
   "metadata": {},
   "source": [
    "#### Garge"
   ]
  },
  {
   "cell_type": "raw",
   "metadata": {},
   "source": [
    "\"\"\"\n",
    "There is a parking lot with only one empty spot. Given the initial state\n",
    "of the parking lot and the final state. Each step we are only allowed to\n",
    "move a car\n",
    "out of its place and move it into the empty spot.\n",
    "The goal is to find out the least movement needed to rearrange\n",
    "the parking lot from the initial state to the final state.\n",
    "Say the initial state is an array:\n",
    "[1, 2, 3, 0, 4],\n",
    "where 1, 2, 3, 4 are different cars, and 0 is the empty spot.\n",
    "And the final state is\n",
    "[0, 3, 2, 1, 4].\n",
    "We can swap 1 with 0 in the initial array to get [0, 2, 3, 1, 4] and so on.\n",
    "Each step swap with 0 only.\n",
    "Edit:\n",
    "Now also prints the sequence of changes in states.\n",
    "Output of this example :-\n",
    "initial: [1, 2, 3, 0, 4]\n",
    "final:   [0, 3, 2, 1, 4]\n",
    "Steps =  4\n",
    "Sequence : \n",
    "0 2 3 1 4\n",
    "2 0 3 1 4\n",
    "2 3 0 1 4\n",
    "0 3 2 1 4\n",
    "\"\"\""
   ]
  },
  {
   "cell_type": "code",
   "execution_count": 148,
   "metadata": {},
   "outputs": [],
   "source": [
    "def Garge(BG,ED):\n",
    "    tmp = BG.copy()\n",
    "    steps=0\n",
    "    while ED:\n",
    "        if ED[-1] == BG[-1]:\n",
    "            ED.pop()\n",
    "            BG.pop()\n",
    "        else:\n",
    "            var = ED[-1]\n",
    "            loc_0,loc_t0=BG.index(0),tmp.index(0)\n",
    "            loc_var,loc_tvar=BG.index(var),tmp.index(var)\n",
    "            loc_last,loc_tlast=BG.index(BG[-1]),tmp.index(BG[-1])\n",
    "            last = BG[-1]\n",
    "            \n",
    "            ### 0 change with last one\n",
    "            if loc_tlast != loc_t0:\n",
    "                BG[loc_last],BG[loc_0]=0,last\n",
    "                tmp[loc_tlast],tmp[loc_t0]=0,last\n",
    "                print(tmp)\n",
    "                steps+=1\n",
    "            BG[loc_last],BG[loc_var]=var,0\n",
    "            tmp[loc_tlast],tmp[loc_tvar]=var,0\n",
    "            print(tmp)\n",
    "            steps+=1\n",
    "            \n",
    "    return steps  "
   ]
  },
  {
   "cell_type": "code",
   "execution_count": null,
   "metadata": {},
   "outputs": [],
   "source": []
  }
 ],
 "metadata": {
  "kernelspec": {
   "display_name": "Python 3",
   "language": "python",
   "name": "python3"
  },
  "language_info": {
   "codemirror_mode": {
    "name": "ipython",
    "version": 3
   },
   "file_extension": ".py",
   "mimetype": "text/x-python",
   "name": "python",
   "nbconvert_exporter": "python",
   "pygments_lexer": "ipython3",
   "version": "3.7.3"
  },
  "toc": {
   "base_numbering": 1,
   "nav_menu": {},
   "number_sections": true,
   "sideBar": true,
   "skip_h1_title": false,
   "title_cell": "Table of Contents",
   "title_sidebar": "Contents",
   "toc_cell": false,
   "toc_position": {},
   "toc_section_display": true,
   "toc_window_display": false
  },
  "varInspector": {
   "cols": {
    "lenName": 16,
    "lenType": 16,
    "lenVar": 40
   },
   "kernels_config": {
    "python": {
     "delete_cmd_postfix": "",
     "delete_cmd_prefix": "del ",
     "library": "var_list.py",
     "varRefreshCmd": "print(var_dic_list())"
    },
    "r": {
     "delete_cmd_postfix": ") ",
     "delete_cmd_prefix": "rm(",
     "library": "var_list.r",
     "varRefreshCmd": "cat(var_dic_list()) "
    }
   },
   "types_to_exclude": [
    "module",
    "function",
    "builtin_function_or_method",
    "instance",
    "_Feature"
   ],
   "window_display": false
  }
 },
 "nbformat": 4,
 "nbformat_minor": 2
}
