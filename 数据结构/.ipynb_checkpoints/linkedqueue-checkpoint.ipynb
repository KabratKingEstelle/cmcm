{
 "cells": [
  {
   "cell_type": "code",
   "execution_count": 1,
   "metadata": {},
   "outputs": [],
   "source": [
    "from collections import deque"
   ]
  },
  {
   "cell_type": "code",
   "execution_count": 26,
   "metadata": {},
   "outputs": [],
   "source": [
    "class Node(object):\n",
    "    def __init__(self,value=None,next=None):\n",
    "        self.value = value\n",
    "        self.next = next\n",
    "        \n",
    "    \n",
    "    def __str__(self):\n",
    "        return '<Node: value:{}, next={}>'.format(self.value,self.next)\n",
    "    \n",
    "    __repr__= __str__\n",
    "\n",
    "class LinkedList(object):\n",
    "    '''\n",
    "    [root] -> node0 ->node1\n",
    "    '''\n",
    "    def __init__(self,maxsize = None):\n",
    "        self.maxsize = maxsize\n",
    "        self.root = Node()\n",
    "        self.tailnode = None\n",
    "        self.length=0\n",
    "        \n",
    "    def __len__(self):\n",
    "        return self.length\n",
    "    \n",
    "    def append(self,value):\n",
    "        if self.maxsize is not None and len(self) >= self.maxsize:\n",
    "            raise Exception('Linkedlist is Full')\n",
    "            \n",
    "        node = Node(value)\n",
    "        tailnode = self.tailnode\n",
    "        if tailnode is None:\n",
    "            self.root.next = node\n",
    "        else:\n",
    "            tailnode.next = node\n",
    "        self.tailnode = node\n",
    "        self.length += 1\n",
    "        \n",
    "    def appendleft(self,value):\n",
    "        headnode = self.root.next\n",
    "        node = Node(value)\n",
    "        self.root.next = node\n",
    "        node.next = headnode\n",
    "        self.length +=1\n",
    "        \n",
    "    def iter_node(self):\n",
    "        curnode = self.root.next\n",
    "        while curnode is not self.tailnode:\n",
    "            yield curnode\n",
    "            curnode = curnode.next\n",
    "        yield curnode #### 保证取到tailnode\n",
    "        \n",
    "    def remove(self,value):\n",
    "        prevnode = self.root\n",
    "        curnode = self.root.next\n",
    "        for curnode in self.iter_node():\n",
    "            if curnode.value == value:\n",
    "                prenode.next = curnode.next\n",
    "                del curnode\n",
    "                self.length -=1\n",
    "                return 1\n",
    "            else:\n",
    "                prevnode = curnode\n",
    "        return -1\n",
    "    \n",
    "    def find(self,value):\n",
    "        index = 0\n",
    "        for node in self.iter_node():\n",
    "            if node.value == value:\n",
    "                return index\n",
    "            index +=1\n",
    "        return -1\n",
    "    \n",
    "    def popleft(self):\n",
    "        if self.root.next is None:\n",
    "            raise Exception('pop from empty LinkedList')\n",
    "        \n",
    "        headnode = self.root.next\n",
    "        self.root.next =headnode.next\n",
    "        self.length -= 1\n",
    "        value = headnode.value\n",
    "        del headnode\n",
    "        return value\n",
    "    \n",
    "    def clear(self):\n",
    "        for node in self.iter_node():\n",
    "            del node\n",
    "        self.root.next =None\n",
    "        self.length =0"
   ]
  },
  {
   "cell_type": "code",
   "execution_count": 27,
   "metadata": {},
   "outputs": [],
   "source": [
    "class EmptyError(Exception):\n",
    "    pass\n",
    "\n",
    "\n",
    "class LinkedQuene(object):\n",
    "    \n",
    "    def __init__(self,maxsize = None):\n",
    "        self.maxsize = maxsize\n",
    "        self._item_link_list = LinkedList()\n",
    "        \n",
    "    \n",
    "    def __len__(self):\n",
    "        return len(self._item_link_list)\n",
    "    \n",
    "    def push(self,value):\n",
    "        return self._item_link_list.append(value)\n",
    "    \n",
    "    def pop(self):\n",
    "        if len(self) <=0:\n",
    "            raise EmptyError('empty queue')\n",
    "        return self._item_link_list.popleft()\n",
    "    \n",
    "    \n",
    "    "
   ]
  },
  {
   "cell_type": "code",
   "execution_count": 28,
   "metadata": {},
   "outputs": [],
   "source": [
    "q = LinkedQuene()\n",
    "q.push(0)\n",
    "q.push(1)\n",
    "q.push(2)"
   ]
  },
  {
   "cell_type": "code",
   "execution_count": 35,
   "metadata": {},
   "outputs": [],
   "source": [
    "assert len(q)==3"
   ]
  },
  {
   "cell_type": "code",
   "execution_count": 36,
   "metadata": {},
   "outputs": [],
   "source": [
    "assert q.pop() ==0"
   ]
  },
  {
   "cell_type": "code",
   "execution_count": 38,
   "metadata": {},
   "outputs": [],
   "source": [
    "assert q.pop()==1"
   ]
  },
  {
   "cell_type": "code",
   "execution_count": 39,
   "metadata": {},
   "outputs": [],
   "source": [
    "class MyQueue:\n",
    "    def __init__(self):\n",
    "        self.items = deque()\n",
    "    \n",
    "    def append(self,val):\n",
    "        return self.items.append(val)\n",
    "    \n",
    "    def pop(self):\n",
    "        return self.items.popleft()\n",
    "    \n",
    "    def __len__(self):\n",
    "        return len(self.items)\n",
    "    \n",
    "    def empty(self):\n",
    "        return len(self.items) ==0\n",
    "    \n",
    "    def front(self):\n",
    "        return self.items[0]"
   ]
  }
 ],
 "metadata": {
  "kernelspec": {
   "display_name": "Python 3",
   "language": "python",
   "name": "python3"
  },
  "language_info": {
   "codemirror_mode": {
    "name": "ipython",
    "version": 3
   },
   "file_extension": ".py",
   "mimetype": "text/x-python",
   "name": "python",
   "nbconvert_exporter": "python",
   "pygments_lexer": "ipython3",
   "version": "3.7.3"
  },
  "toc": {
   "base_numbering": 1,
   "nav_menu": {},
   "number_sections": true,
   "sideBar": true,
   "skip_h1_title": false,
   "title_cell": "Table of Contents",
   "title_sidebar": "Contents",
   "toc_cell": false,
   "toc_position": {},
   "toc_section_display": true,
   "toc_window_display": false
  },
  "varInspector": {
   "cols": {
    "lenName": 16,
    "lenType": 16,
    "lenVar": 40
   },
   "kernels_config": {
    "python": {
     "delete_cmd_postfix": "",
     "delete_cmd_prefix": "del ",
     "library": "var_list.py",
     "varRefreshCmd": "print(var_dic_list())"
    },
    "r": {
     "delete_cmd_postfix": ") ",
     "delete_cmd_prefix": "rm(",
     "library": "var_list.r",
     "varRefreshCmd": "cat(var_dic_list()) "
    }
   },
   "types_to_exclude": [
    "module",
    "function",
    "builtin_function_or_method",
    "instance",
    "_Feature"
   ],
   "window_display": false
  }
 },
 "nbformat": 4,
 "nbformat_minor": 2
}
