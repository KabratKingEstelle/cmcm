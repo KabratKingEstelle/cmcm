{
 "cells": [
  {
   "cell_type": "code",
   "execution_count": 12,
   "metadata": {},
   "outputs": [],
   "source": [
    "from collections import deque"
   ]
  },
  {
   "cell_type": "code",
   "execution_count": 2,
   "metadata": {},
   "outputs": [],
   "source": [
    "class Node(object):\n",
    "    def __init__(self,value=None,prev =None,next =None):\n",
    "        self.value,self.prev,self.next = value,prev,next\n",
    "    \n",
    "class CircularDoubleLinkedList(object):\n",
    "    '''\n",
    "    root->prev->tail\n",
    "    '''\n",
    "    \n",
    "    def __init__(self,maxsize = None):\n",
    "        self.maxsize = maxsize\n",
    "        node = Node()\n",
    "        node.next,node.prev = node,node\n",
    "        self.root = node\n",
    "        self.length = 0\n",
    "        \n",
    "    def __len__(self):\n",
    "        return self.length\n",
    "    \n",
    "    def headnode(self):\n",
    "        return self.root.next\n",
    "    \n",
    "    def tailnode(self):\n",
    "        return self.root.prev\n",
    "    \n",
    "    def append(self,value):\n",
    "        if self.maxsize is not None and len(self) > self.maxsize:\n",
    "            raise Exception('LinkedList is Full')\n",
    "            \n",
    "        node = Node(value=value)\n",
    "        tailnode = self.tailnode() or self.root\n",
    "        \n",
    "        tailnode.next = node\n",
    "        node.prev = tailnode\n",
    "        node.next = self.root\n",
    "        self.root.prev = node\n",
    "        self.length +=1\n",
    "        \n",
    "    def appendleft(self,value):\n",
    "        if self.maxsize is not None and len(self) >= self.maxsize:\n",
    "            raise Exception('LinkedList is Full')\n",
    "            \n",
    "        node =Node(value=value)\n",
    "        if self.root.next is self.root:\n",
    "            node.next = self.root\n",
    "            node.prev = self.root\n",
    "            self.root.prev = node\n",
    "            self.root.next = node\n",
    "        else:\n",
    "            headnode = self.root.next\n",
    "            node.prev = self.root\n",
    "            node.next = headnode\n",
    "            headnode.prev = node\n",
    "            self.root.next = node\n",
    "        self.length +=1\n",
    "        \n",
    "    def remove(self,node):\n",
    "        if node is self.root:\n",
    "            return \n",
    "        else:\n",
    "            node.prev.next = node.next\n",
    "            node.next.prev = node.prev\n",
    "        self.length -=1\n",
    "        return node\n",
    "    \n",
    "    def iter_node(self):\n",
    "        if self.root.next is self.root:\n",
    "            return \n",
    "        curnode = self.root.next\n",
    "        while curnode.next is not self.root:\n",
    "            yield curnode\n",
    "            curnode = curnode.next\n",
    "        yield curnode\n",
    "        \n",
    "    def __iter__(self):\n",
    "        for node in self.iter_node():\n",
    "            yield node.value\n",
    "        \n",
    "    def iter_node_reverse(self):\n",
    "        if self.root.prev is self.root:\n",
    "            return\n",
    "        curnode = self.root.next\n",
    "        while curnode.prev is not self.root:\n",
    "            yield curnode\n",
    "            curnode = curnode.next\n",
    "        yield curnode\n",
    "        "
   ]
  },
  {
   "cell_type": "code",
   "execution_count": 8,
   "metadata": {},
   "outputs": [],
   "source": [
    "class Deque(CircularDoubleLinkedList):\n",
    "    \n",
    "    def pop(self):\n",
    "        if len(self)==0:\n",
    "            raise Exception('empty')\n",
    "        tailnode = self.tailnode()\n",
    "        value = tailnode.value\n",
    "        self.remove(tailnode)\n",
    "        return value\n",
    "    \n",
    "    def popleft(self):\n",
    "        if len(self) ==0:\n",
    "            raise Exception('empty')\n",
    "        headnode = self.headnode()\n",
    "        value = headnode.value\n",
    "        self.remove(headnode)\n",
    "        return value"
   ]
  },
  {
   "cell_type": "code",
   "execution_count": 9,
   "metadata": {},
   "outputs": [],
   "source": [
    "dq = Deque()\n",
    "dq.append(1)\n",
    "dq.append(2)"
   ]
  },
  {
   "cell_type": "code",
   "execution_count": 10,
   "metadata": {},
   "outputs": [],
   "source": [
    "dq.appendleft(0)"
   ]
  },
  {
   "cell_type": "code",
   "execution_count": 11,
   "metadata": {},
   "outputs": [
    {
     "data": {
      "text/plain": [
       "0"
      ]
     },
     "execution_count": 11,
     "metadata": {},
     "output_type": "execute_result"
    }
   ],
   "source": [
    "dq.popleft()"
   ]
  },
  {
   "cell_type": "code",
   "execution_count": 13,
   "metadata": {},
   "outputs": [],
   "source": [
    "class Stack(object):\n",
    "    def __init__(self):\n",
    "        self.deque = Deque()\n",
    "        \n",
    "    def push(self,value):\n",
    "        self.deque.append(value)\n",
    "    \n",
    "    def pop(self):\n",
    "        return self.deque.pop()"
   ]
  },
  {
   "cell_type": "code",
   "execution_count": 14,
   "metadata": {},
   "outputs": [],
   "source": [
    "class Stack2(object):\n",
    "    def __init__(self):\n",
    "        self._deque = deque()\n",
    "        \n",
    "    def push(self,value):\n",
    "        return self._deque.append(value)\n",
    "    \n",
    "    def pop(self):\n",
    "        return self._deque.pop()\n",
    "    \n",
    "    def empty(self):\n",
    "        return len(self._deque) ==0\n",
    "    \n"
   ]
  },
  {
   "cell_type": "code",
   "execution_count": 16,
   "metadata": {},
   "outputs": [
    {
     "data": {
      "text/plain": [
       "True"
      ]
     },
     "execution_count": 16,
     "metadata": {},
     "output_type": "execute_result"
    }
   ],
   "source": [
    "s = Stack()\n",
    "s.push(0)\n",
    "s.push(1)\n",
    "s.push(2)\n",
    "s.pop()==2"
   ]
  },
  {
   "cell_type": "code",
   "execution_count": 17,
   "metadata": {},
   "outputs": [
    {
     "data": {
      "text/plain": [
       "True"
      ]
     },
     "execution_count": 17,
     "metadata": {},
     "output_type": "execute_result"
    }
   ],
   "source": [
    "s = Stack2()\n",
    "s.push(0)\n",
    "s.push(1)\n",
    "s.push(2)\n",
    "s.pop() == 2"
   ]
  },
  {
   "cell_type": "code",
   "execution_count": 18,
   "metadata": {},
   "outputs": [
    {
     "data": {
      "text/plain": [
       "False"
      ]
     },
     "execution_count": 18,
     "metadata": {},
     "output_type": "execute_result"
    }
   ],
   "source": [
    "s.empty()"
   ]
  },
  {
   "cell_type": "code",
   "execution_count": 19,
   "metadata": {},
   "outputs": [
    {
     "data": {
      "text/plain": [
       "<__main__.Stack2 at 0x11ab40320>"
      ]
     },
     "execution_count": 19,
     "metadata": {},
     "output_type": "execute_result"
    }
   ],
   "source": [
    "s"
   ]
  },
  {
   "cell_type": "code",
   "execution_count": 20,
   "metadata": {},
   "outputs": [
    {
     "data": {
      "text/plain": [
       "1"
      ]
     },
     "execution_count": 20,
     "metadata": {},
     "output_type": "execute_result"
    }
   ],
   "source": [
    "s.pop()"
   ]
  },
  {
   "cell_type": "code",
   "execution_count": null,
   "metadata": {},
   "outputs": [],
   "source": []
  }
 ],
 "metadata": {
  "kernelspec": {
   "display_name": "Python 3",
   "language": "python",
   "name": "python3"
  },
  "language_info": {
   "codemirror_mode": {
    "name": "ipython",
    "version": 3
   },
   "file_extension": ".py",
   "mimetype": "text/x-python",
   "name": "python",
   "nbconvert_exporter": "python",
   "pygments_lexer": "ipython3",
   "version": "3.7.3"
  },
  "toc": {
   "base_numbering": 1,
   "nav_menu": {},
   "number_sections": true,
   "sideBar": true,
   "skip_h1_title": false,
   "title_cell": "Table of Contents",
   "title_sidebar": "Contents",
   "toc_cell": false,
   "toc_position": {},
   "toc_section_display": true,
   "toc_window_display": false
  },
  "varInspector": {
   "cols": {
    "lenName": 16,
    "lenType": 16,
    "lenVar": 40
   },
   "kernels_config": {
    "python": {
     "delete_cmd_postfix": "",
     "delete_cmd_prefix": "del ",
     "library": "var_list.py",
     "varRefreshCmd": "print(var_dic_list())"
    },
    "r": {
     "delete_cmd_postfix": ") ",
     "delete_cmd_prefix": "rm(",
     "library": "var_list.r",
     "varRefreshCmd": "cat(var_dic_list()) "
    }
   },
   "types_to_exclude": [
    "module",
    "function",
    "builtin_function_or_method",
    "instance",
    "_Feature"
   ],
   "window_display": false
  }
 },
 "nbformat": 4,
 "nbformat_minor": 2
}
