{
 "cells": [
  {
   "cell_type": "code",
   "execution_count": 1,
   "metadata": {},
   "outputs": [],
   "source": [
    "class Array(object):\n",
    "\n",
    "    def __init__(self, size=32, init=None):\n",
    "        self._size = size\n",
    "        self._items = [init] * size\n",
    "\n",
    "    def __getitem__(self, index):\n",
    "        return self._items[index]\n",
    "\n",
    "    def __setitem__(self, index, value):\n",
    "        self._items[index] = value\n",
    "\n",
    "    def __len__(self):\n",
    "        return self._size\n",
    "\n",
    "    def clear(self, value=None):\n",
    "        for i in range(len(self._items)):\n",
    "            self._items[i] = value\n",
    "\n",
    "    def __iter__(self):\n",
    "        for item in self._items:\n",
    "            yield item\n",
    "\n",
    "\n",
    "class Slot(object):\n",
    "    \"\"\"定义一个 hash 表 数组的槽\n",
    "    注意，一个槽有三种状态，看你能否想明白。相比链接法解决冲突，二次探查法删除一个 key 的操作稍微复杂。\n",
    "    1.从未使用 HashMap.UNUSED。此槽没有被使用和冲突过，查找时只要找到 UNUSED 就不用再继续探查了\n",
    "    2.使用过但是 remove 了，此时是 HashMap.EMPTY，该探查点后边的元素扔可能是有key\n",
    "    3.槽正在使用 Slot 节点\n",
    "    \"\"\"\n",
    "\n",
    "    def __init__(self, key, value):\n",
    "        self.key, self.value = key, value\n",
    "\n",
    "\n",
    "class HashTable(object):\n",
    "\n",
    "    UNUSED = None  # 没被使用过\n",
    "    EMPTY = Slot(None, None)  # 使用却被删除过\n",
    "\n",
    "    def __init__(self):\n",
    "        self._table = Array(8, init=HashTable.UNUSED)   # 保持 2*i 次方\n",
    "        self.length = 0\n",
    "\n",
    "    @property\n",
    "    def _load_factor(self):\n",
    "        # load_factor 超过 0.8 重新分配\n",
    "        return self.length / float(len(self._table))\n",
    "\n",
    "    def __len__(self):\n",
    "        return self.length\n",
    "\n",
    "    def _hash(self, key):\n",
    "        return abs(hash(key)) % len(self._table)\n",
    "\n",
    "    def _find_key(self, key):\n",
    "        index = self._hash(key)\n",
    "        _len = len(self._table)\n",
    "        while self._table[index] is not HashTable.UNUSED:\n",
    "            if self._table[index] is HashTable.EMPTY:\n",
    "                index = (index*5 + 1) % _len\n",
    "                continue\n",
    "            elif self._table[index].key == key:\n",
    "                return index\n",
    "            else:\n",
    "                index = (index*5 + 1) % _len\n",
    "        return None\n",
    "\n",
    "    def _find_slot_for_insert(self, key):\n",
    "        index = self._hash(key)\n",
    "        _len = len(self._table)\n",
    "        while not self._slot_can_insert(index):\n",
    "            index = (index*5 + 1) % _len\n",
    "        return index\n",
    "\n",
    "    def _slot_can_insert(self, index):\n",
    "        return (self._table[index] is HashTable.EMPTY or self._table[index] is HashTable.UNUSED)\n",
    "\n",
    "    def __contains__(self, key):  # in operator\n",
    "        index = self._find_key(key)\n",
    "        return index is not None\n",
    "\n",
    "    def add(self, key, value):\n",
    "        if key in self:\n",
    "            index = self._find_key(key)\n",
    "            self._table[index].value = value\n",
    "            return False\n",
    "        else:\n",
    "            index = self._find_slot_for_insert(key)\n",
    "            self._table[index] = Slot(key, value)\n",
    "            self.length += 1\n",
    "            if self._load_factor >= 0.8:\n",
    "                self._rehash()\n",
    "            return True\n",
    "\n",
    "    def _rehash(self):\n",
    "        old_table = self._table\n",
    "        newsize = len(self._table) * 2\n",
    "        self._table = Array(newsize, HashTable.UNUSED)\n",
    "\n",
    "        self.length = 0\n",
    "\n",
    "        for slot in old_table:\n",
    "            if slot is not HashTable.UNUSED and slot is not HashTable.EMPTY:\n",
    "                index = self._find_slot_for_insert(slot.key)\n",
    "                self._table[index] = slot\n",
    "                self.length += 1\n",
    "\n",
    "    def get(self, key, default=None):\n",
    "        index = self._find_key(key)\n",
    "        if index is None:\n",
    "            return default\n",
    "        else:\n",
    "            return self._table[index].value\n",
    "\n",
    "    def remove(self, key):\n",
    "        index = self._find_key(key)\n",
    "        if index is None:\n",
    "            raise KeyError()\n",
    "        value = self._table[index].value\n",
    "        self.length -= 1\n",
    "        self._table[index] = HashTable.EMPTY\n",
    "        return value\n",
    "\n",
    "    def __iter__(self):\n",
    "        for slot in self._table:\n",
    "            if slot not in (HashTable.EMPTY, HashTable.UNUSED):\n",
    "                yield slot.key"
   ]
  },
  {
   "cell_type": "code",
   "execution_count": 2,
   "metadata": {},
   "outputs": [],
   "source": [
    "class SetADT(HashTable):\n",
    "    \n",
    "    def add(self,key):\n",
    "        return super(SetADT,self).add(key,True)\n",
    "    \n",
    "    def __and__(self,other_set):\n",
    "        new_set = SetADT()\n",
    "        for element_a in self:\n",
    "            if element_a in other_set:\n",
    "                new_set.add(element_a)\n",
    "        return new_set\n",
    "    \n",
    "    def __sub__(self,other_set):\n",
    "        new_set = SetADT()\n",
    "        for element_a in self:\n",
    "            if element_a not in other_set:\n",
    "                new_set.add(element_a)\n",
    "        return new_set\n",
    "    \n",
    "    def __or__(self,other_set):\n",
    "        new_set = SetADT()\n",
    "        for element_a in self:\n",
    "            new_set.add(element_a)\n",
    "        for element_b in other_set:\n",
    "            new_set.add(element_b)\n",
    "        return new_set\n",
    "        "
   ]
  },
  {
   "cell_type": "code",
   "execution_count": 3,
   "metadata": {},
   "outputs": [],
   "source": [
    "sa = SetADT()"
   ]
  },
  {
   "cell_type": "code",
   "execution_count": 4,
   "metadata": {},
   "outputs": [],
   "source": [
    "for i in [1,2,3,6,7,8]:\n",
    "    sa.add(i)"
   ]
  },
  {
   "cell_type": "code",
   "execution_count": 5,
   "metadata": {},
   "outputs": [],
   "source": [
    "sb = SetADT()\n",
    "for i in [1,2,4,5,9]:\n",
    "    sb.add(i)"
   ]
  },
  {
   "cell_type": "code",
   "execution_count": 8,
   "metadata": {},
   "outputs": [
    {
     "data": {
      "text/plain": [
       "[1, 2]"
      ]
     },
     "execution_count": 8,
     "metadata": {},
     "output_type": "execute_result"
    }
   ],
   "source": [
    "list(sa.__and__(sb).__iter__())"
   ]
  },
  {
   "cell_type": "code",
   "execution_count": 9,
   "metadata": {},
   "outputs": [
    {
     "data": {
      "text/plain": [
       "[1, 2, 3, 4, 5, 6, 7, 8, 9]"
      ]
     },
     "execution_count": 9,
     "metadata": {},
     "output_type": "execute_result"
    }
   ],
   "source": [
    "list(sa.__or__(sb).__iter__())"
   ]
  },
  {
   "cell_type": "code",
   "execution_count": 10,
   "metadata": {},
   "outputs": [
    {
     "data": {
      "text/plain": [
       "[8, 3, 6, 7]"
      ]
     },
     "execution_count": 10,
     "metadata": {},
     "output_type": "execute_result"
    }
   ],
   "source": [
    "list(sa.__sub__(sb).__iter__())"
   ]
  },
  {
   "cell_type": "code",
   "execution_count": null,
   "metadata": {},
   "outputs": [],
   "source": []
  }
 ],
 "metadata": {
  "kernelspec": {
   "display_name": "Python 3",
   "language": "python",
   "name": "python3"
  },
  "language_info": {
   "codemirror_mode": {
    "name": "ipython",
    "version": 3
   },
   "file_extension": ".py",
   "mimetype": "text/x-python",
   "name": "python",
   "nbconvert_exporter": "python",
   "pygments_lexer": "ipython3",
   "version": "3.7.3"
  },
  "toc": {
   "base_numbering": 1,
   "nav_menu": {},
   "number_sections": true,
   "sideBar": true,
   "skip_h1_title": false,
   "title_cell": "Table of Contents",
   "title_sidebar": "Contents",
   "toc_cell": false,
   "toc_position": {},
   "toc_section_display": true,
   "toc_window_display": false
  },
  "varInspector": {
   "cols": {
    "lenName": 16,
    "lenType": 16,
    "lenVar": 40
   },
   "kernels_config": {
    "python": {
     "delete_cmd_postfix": "",
     "delete_cmd_prefix": "del ",
     "library": "var_list.py",
     "varRefreshCmd": "print(var_dic_list())"
    },
    "r": {
     "delete_cmd_postfix": ") ",
     "delete_cmd_prefix": "rm(",
     "library": "var_list.r",
     "varRefreshCmd": "cat(var_dic_list()) "
    }
   },
   "types_to_exclude": [
    "module",
    "function",
    "builtin_function_or_method",
    "instance",
    "_Feature"
   ],
   "window_display": false
  }
 },
 "nbformat": 4,
 "nbformat_minor": 2
}
