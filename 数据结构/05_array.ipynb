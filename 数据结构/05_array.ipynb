{
 "cells": [
  {
   "cell_type": "code",
   "execution_count": 1,
   "metadata": {},
   "outputs": [],
   "source": [
    "class Array:\n",
    "    def __init__(self,capacity:int):\n",
    "        self._data = []\n",
    "        self._capacity=capacity\n",
    "        \n",
    "    def __getitem__(self,position:int)->object:\n",
    "        return self._data[position]\n",
    "    \n",
    "    def __setitem__(self,index:int,value:object):\n",
    "        self._data[index]=value\n",
    "    \n",
    "    def __len__(self)->int:\n",
    "        return len(self._data)\n",
    "    \n",
    "    def __iter__(self):\n",
    "        for item in self._data:\n",
    "            yield item\n",
    "    \n",
    "    def find(self,index:int) ->object:\n",
    "        try:\n",
    "            return self._data[index]\n",
    "        except IndexError:\n",
    "            return None\n",
    "    \n",
    "    def delete(self,index:int)->object:\n",
    "        try:\n",
    "            self._data.pop(index)\n",
    "            return True\n",
    "        except IndexError:\n",
    "            return False\n",
    "    \n",
    "    def insert(self,index:int,value:int)->bool:\n",
    "        if len(self)>=self._capacity:\n",
    "            return False\n",
    "        else:\n",
    "            return self._data.insert(index,value)\n",
    "    \n",
    "    def print_all(self):\n",
    "        for item in self:\n",
    "            print(item)"
   ]
  },
  {
   "cell_type": "code",
   "execution_count": 4,
   "metadata": {},
   "outputs": [],
   "source": [
    "def test_myarray():\n",
    "    array = Array(5)\n",
    "    array.insert(0,3)\n",
    "    array.insert(0,4)\n",
    "    array.insert(1,5)\n",
    "    array.insert(3,9)\n",
    "    array.insert(3,10)\n",
    "    print('raw')\n",
    "    array.print_all()\n",
    "    print('change')\n",
    "    assert array.insert(0,100) is False\n",
    "    assert len(array) == 5\n",
    "    assert array.find(1) ==5\n",
    "    assert array.delete(4) is True\n",
    "    array.print_all()"
   ]
  },
  {
   "cell_type": "code",
   "execution_count": 5,
   "metadata": {},
   "outputs": [
    {
     "name": "stdout",
     "output_type": "stream",
     "text": [
      "raw\n",
      "4\n",
      "5\n",
      "3\n",
      "10\n",
      "9\n",
      "change\n",
      "4\n",
      "5\n",
      "3\n",
      "10\n"
     ]
    }
   ],
   "source": [
    "test_myarray()"
   ]
  },
  {
   "cell_type": "code",
   "execution_count": null,
   "metadata": {},
   "outputs": [],
   "source": []
  }
 ],
 "metadata": {
  "kernelspec": {
   "display_name": "Python 3",
   "language": "python",
   "name": "python3"
  },
  "language_info": {
   "codemirror_mode": {
    "name": "ipython",
    "version": 3
   },
   "file_extension": ".py",
   "mimetype": "text/x-python",
   "name": "python",
   "nbconvert_exporter": "python",
   "pygments_lexer": "ipython3",
   "version": "3.7.3"
  },
  "toc": {
   "base_numbering": 1,
   "nav_menu": {},
   "number_sections": true,
   "sideBar": true,
   "skip_h1_title": false,
   "title_cell": "Table of Contents",
   "title_sidebar": "Contents",
   "toc_cell": false,
   "toc_position": {},
   "toc_section_display": true,
   "toc_window_display": false
  },
  "varInspector": {
   "cols": {
    "lenName": 16,
    "lenType": 16,
    "lenVar": 40
   },
   "kernels_config": {
    "python": {
     "delete_cmd_postfix": "",
     "delete_cmd_prefix": "del ",
     "library": "var_list.py",
     "varRefreshCmd": "print(var_dic_list())"
    },
    "r": {
     "delete_cmd_postfix": ") ",
     "delete_cmd_prefix": "rm(",
     "library": "var_list.r",
     "varRefreshCmd": "cat(var_dic_list()) "
    }
   },
   "types_to_exclude": [
    "module",
    "function",
    "builtin_function_or_method",
    "instance",
    "_Feature"
   ],
   "window_display": false
  }
 },
 "nbformat": 4,
 "nbformat_minor": 2
}
