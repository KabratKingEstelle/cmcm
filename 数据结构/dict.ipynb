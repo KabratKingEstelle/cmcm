{
 "cells": [
  {
   "cell_type": "code",
   "execution_count": 23,
   "metadata": {},
   "outputs": [],
   "source": [
    "class Array(object):\n",
    "    def __init__(self,size=32,init = None):\n",
    "        self._size = size\n",
    "        self._items = [init]*size\n",
    "        \n",
    "    def __getitem__(self,index):\n",
    "        return self._items[index]\n",
    "    \n",
    "    def __setitem__(self,index,value):\n",
    "        self._items[index] = value\n",
    "    \n",
    "    def __len__(self):\n",
    "        return self._size\n",
    "    \n",
    "    def clear(self,value = None):\n",
    "        for i in range(len(self._items)):\n",
    "            self._items[i] = value\n",
    "    \n",
    "    def __iter__(self):\n",
    "        for item in self._items:\n",
    "            yield item      \n",
    "\n",
    "   \n",
    "\n",
    "            \n",
    "class Slot(object):\n",
    "    def __init__(self,key,value):\n",
    "        self.key,self.value = key,value\n",
    "        \n",
    "\n",
    "class HashTable(object):\n",
    "    UNUSED = None\n",
    "    EMPTY = Slot(None,None)\n",
    "    \n",
    "    def __init__(self):\n",
    "        self._table = Array(8,init=HashTable.UNUSED)\n",
    "        self.length = 0\n",
    "        \n",
    "    @property\n",
    "    def _load_factor(self):\n",
    "        return self.length/float(len(self._table))\n",
    "    \n",
    "    def __len__(self):\n",
    "        return self.length\n",
    "    \n",
    "    def _hash(self,key):\n",
    "        return abs(hash(key))%len(self._table)\n",
    "    \n",
    "    def _find_key(self,key):\n",
    "        index = self._hash(key)\n",
    "        _len = len(self._table)\n",
    "        while self._table[index] is not HashTable.UNUSED:\n",
    "            if self._table[index] is HashTable.EMPTY:\n",
    "                index = (index*5+1)%_len\n",
    "                continue\n",
    "            elif self._table[index].key == key:\n",
    "                return index\n",
    "            else:\n",
    "                index = (index*5+1)%_len\n",
    "        return None\n",
    "    \n",
    "    def _find_slot_for_insert(self,key):\n",
    "        index = self._hash(key)\n",
    "        _len = len(self._table)\n",
    "        \n",
    "        while not self._slot_can_insert(index):\n",
    "            index = (index*5 +1)%_len\n",
    "        return index\n",
    "    \n",
    "    def _slot_can_insert(self,index):\n",
    "        return (self._table[index] is HashTable.EMPTY or self._table[index] is HashTable.UNUSED)\n",
    "    \n",
    "    def __contains__(self,key):\n",
    "        index = self._find_key(key)\n",
    "        return index is not None\n",
    "    \n",
    "    def add(self, key, value):\n",
    "        if key in self:\n",
    "            index = self._find_key(key)\n",
    "            self._table[index].value = value\n",
    "            return False\n",
    "        else:\n",
    "            index = self._find_slot_for_insert(key)\n",
    "            self._table[index] = Slot(key, value)\n",
    "            self.length += 1\n",
    "            if self._load_factor >= 0.8:\n",
    "                self._rehash()\n",
    "            return True\n",
    "\n",
    "    def _rehash(self):\n",
    "        old_table = self._table\n",
    "        newsize = len(self._table) * 2\n",
    "        self._table = Array(newsize, HashTable.UNUSED)\n",
    "\n",
    "        self.length = 0\n",
    "\n",
    "        for slot in old_table:\n",
    "            if slot is not HashTable.UNUSED and slot is not HashTable.EMPTY:\n",
    "                index = self._find_slot_for_insert(slot.key)\n",
    "                self._table[index] = slot\n",
    "                self.length += 1\n",
    "\n",
    "    def get(self, key, default=None):\n",
    "        index = self._find_key(key)\n",
    "        if index is None:\n",
    "            return default\n",
    "        else:\n",
    "            return self._table[index].value\n",
    "\n",
    "    def remove(self, key):\n",
    "        index = self._find_key(key)\n",
    "        if index is None:\n",
    "            raise KeyError()\n",
    "        value = self._table[index].value\n",
    "        self.length -= 1\n",
    "        self._table[index] = HashTable.EMPTY\n",
    "        return value\n",
    "\n",
    "    def __iter__(self):\n",
    "        for slot in self._table:\n",
    "            if slot not in (HashTable.EMPTY, HashTable.UNUSED):\n",
    "                yield slot.key\n",
    "                       "
   ]
  },
  {
   "cell_type": "code",
   "execution_count": 24,
   "metadata": {},
   "outputs": [],
   "source": [
    "class DictADT(HashTable):\n",
    "    \n",
    "    def _iter_slot(self):\n",
    "        for slot in self._table:\n",
    "            if slot not in (HashTable.UNUSED ,HashTable.EMPTY):\n",
    "                yield slot\n",
    "                \n",
    "    \n",
    "    def __setitem__(self,key,value):\n",
    "        self.add(key,value)\n",
    "        \n",
    "    def __getitem__(self,key):\n",
    "        if key not in self:\n",
    "            raise KeyError\n",
    "        else:\n",
    "            return self.get(key)\n",
    "    \n",
    "    def items(self):\n",
    "        for slot in self._iter_slot():\n",
    "            yield (slot.key,slot.value)\n",
    "            \n",
    "    def keys(self):\n",
    "        for slot in self._iter_slot():\n",
    "            yield slot.key\n",
    "    \n",
    "    def values(self):\n",
    "        for slot in self._iter_slot():\n",
    "            yield slot.value\n",
    "    "
   ]
  },
  {
   "cell_type": "code",
   "execution_count": 25,
   "metadata": {},
   "outputs": [],
   "source": [
    "d = DictADT()"
   ]
  },
  {
   "cell_type": "code",
   "execution_count": 26,
   "metadata": {},
   "outputs": [],
   "source": [
    "d['a'] = 1"
   ]
  },
  {
   "cell_type": "code",
   "execution_count": 27,
   "metadata": {},
   "outputs": [
    {
     "data": {
      "text/plain": [
       "1"
      ]
     },
     "execution_count": 27,
     "metadata": {},
     "output_type": "execute_result"
    }
   ],
   "source": [
    "d.remove('a')"
   ]
  }
 ],
 "metadata": {
  "kernelspec": {
   "display_name": "Python 3",
   "language": "python",
   "name": "python3"
  },
  "language_info": {
   "codemirror_mode": {
    "name": "ipython",
    "version": 3
   },
   "file_extension": ".py",
   "mimetype": "text/x-python",
   "name": "python",
   "nbconvert_exporter": "python",
   "pygments_lexer": "ipython3",
   "version": "3.7.3"
  },
  "toc": {
   "base_numbering": 1,
   "nav_menu": {},
   "number_sections": true,
   "sideBar": true,
   "skip_h1_title": false,
   "title_cell": "Table of Contents",
   "title_sidebar": "Contents",
   "toc_cell": false,
   "toc_position": {},
   "toc_section_display": true,
   "toc_window_display": false
  },
  "varInspector": {
   "cols": {
    "lenName": 16,
    "lenType": 16,
    "lenVar": 40
   },
   "kernels_config": {
    "python": {
     "delete_cmd_postfix": "",
     "delete_cmd_prefix": "del ",
     "library": "var_list.py",
     "varRefreshCmd": "print(var_dic_list())"
    },
    "r": {
     "delete_cmd_postfix": ") ",
     "delete_cmd_prefix": "rm(",
     "library": "var_list.r",
     "varRefreshCmd": "cat(var_dic_list()) "
    }
   },
   "types_to_exclude": [
    "module",
    "function",
    "builtin_function_or_method",
    "instance",
    "_Feature"
   ],
   "window_display": false
  }
 },
 "nbformat": 4,
 "nbformat_minor": 2
}
