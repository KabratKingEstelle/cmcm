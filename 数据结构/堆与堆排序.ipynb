{
 "cells": [
  {
   "cell_type": "code",
   "execution_count": 10,
   "metadata": {},
   "outputs": [],
   "source": [
    "class Array(object):\n",
    "    def __init__(self,size = 32):\n",
    "        self._size = size\n",
    "        self._items = [None]*size\n",
    "    \n",
    "    def __getitem__(self,index):\n",
    "        return self._items[index]\n",
    "    \n",
    "    def __setitem__(self,index,value):\n",
    "        self._items[index] = value\n",
    "        \n",
    "    def __len__(self):\n",
    "        return self._size\n",
    "    \n",
    "    def clear(self,value = None):\n",
    "        for i in range(len(self._items)):\n",
    "            self._items[i] = value\n",
    "        \n",
    "    def __iter__(self):\n",
    "        for item in self._items:\n",
    "            yield item"
   ]
  },
  {
   "cell_type": "code",
   "execution_count": 11,
   "metadata": {},
   "outputs": [],
   "source": [
    "class Maxheap(object):\n",
    "    \"\"\"\n",
    "    Heaps:\n",
    "    完全二叉树，最大堆的非叶子节点的值都比孩子大，最小堆的非叶子结点的值都比孩子小\n",
    "    Heap包含两个属性，order property 和 shape property(a complete binary tree)，在插入\n",
    "    一个新节点的时候，始终要保持这两个属性\n",
    "    插入操作：保持堆属性和完全二叉树属性, sift-up 操作维持堆属性\n",
    "    extract操作：只获取根节点数据，并把树最底层最右节点copy到根节点后，sift-down操作维持堆属性\n",
    "    用数组实现heap，从根节点开始，从上往下从左到右给每个节点编号，则根据完全二叉树的\n",
    "    性质，给定一个节点i， 其父亲和孩子节点的编号分别是:\n",
    "        parent = (i-1) // 2\n",
    "        left = 2 * i + 1\n",
    "        rgiht = 2 * i + 2\n",
    "    使用数组实现堆一方面效率更高，节省树节点的内存占用，一方面还可以避免复杂的指针操作，减少\n",
    "    调试难度。\n",
    "    \"\"\"\n",
    "\n",
    "    def __init__(self,maxsize = None):\n",
    "        self.maxsize = maxsize\n",
    "        self._elements = Array(maxsize)\n",
    "        self._count = 0\n",
    "    \n",
    "    def __len__(self):\n",
    "        return self._count\n",
    "    \n",
    "    def add(self,value):\n",
    "        if self._count >= self.maxsize:\n",
    "            raise Exception('full')\n",
    "        \n",
    "        self._elements[self._count] = value\n",
    "        self._count +=1\n",
    "        self._siftup(self._count -1) #维持堆属性\n",
    "    \n",
    "    def _siftup(self,ndx):\n",
    "        if ndx>0:\n",
    "            parent = int((ndx-1)/2)\n",
    "            if self._elements[ndx] > self._elements[parent]:# 如果插入的值大于 parent，一直交换\n",
    "                self._elements[ndx],self._elements[parent] =  self._elements[parent],self._elements[ndx]\n",
    "                self._siftup(parent)\n",
    "    \n",
    "    def extract(self):\n",
    "        if self._count <=0:\n",
    "            raise Exception('empty')\n",
    "        value = self._elements[0] # 保存 root 值\n",
    "        self._count -=1\n",
    "        self._elements[0] = self._elements[self._count] # 最右下的节点放到root后siftDown\n",
    "        self._siftdown(0)  # 维持堆特性\n",
    "        return value\n",
    "    \n",
    "    def _siftdown(self,ndx):\n",
    "        left  = 2* ndx +1\n",
    "        right = 2* ndx +2\n",
    "        # determine which node contains the larger value\n",
    "        largest = ndx\n",
    "        if (left <self._count and\n",
    "           self._elements[left] >= self._elements[largest] and\n",
    "           self._elements[left] >= self._elements[right]):\n",
    "            largest = left\n",
    "        elif right<self._count and self._elements[right]>self._elements[largest]:\n",
    "            largest = right\n",
    "        if largest != ndx:\n",
    "            self._elements[ndx] ,self._elements[largest]=self._elements[largest],self._elements[ndx]\n",
    "            self._siftdown(largest)\n",
    "        "
   ]
  },
  {
   "cell_type": "code",
   "execution_count": 24,
   "metadata": {},
   "outputs": [],
   "source": [
    "n = 10\n",
    "h= Maxheap(n)\n",
    "for i in range(n):\n",
    "    h.add(i)"
   ]
  },
  {
   "cell_type": "code",
   "execution_count": 26,
   "metadata": {},
   "outputs": [],
   "source": [
    "def heapsort_reverse(array):\n",
    "    length = len(array)\n",
    "    maxheap = Maxheap(length)\n",
    "    for i in array:\n",
    "        maxheap.add(i)\n",
    "    res  = []\n",
    "    for i in range(length):\n",
    "        res.append(maxheap.extract())\n",
    "    return res"
   ]
  },
  {
   "cell_type": "code",
   "execution_count": 28,
   "metadata": {},
   "outputs": [
    {
     "data": {
      "text/plain": [
       "[9, 8, 7, 6, 5, 4, 3, 2, 1, 0]"
      ]
     },
     "execution_count": 28,
     "metadata": {},
     "output_type": "execute_result"
    }
   ],
   "source": [
    "heapsort_reverse(range(10))"
   ]
  },
  {
   "cell_type": "code",
   "execution_count": 30,
   "metadata": {},
   "outputs": [
    {
     "data": {
      "text/plain": [
       "[9, 8, 5, 6, 7, 1, 4, 0, 3, 2]"
      ]
     },
     "execution_count": 30,
     "metadata": {},
     "output_type": "execute_result"
    }
   ],
   "source": [
    "list(h._elements.__iter__())"
   ]
  },
  {
   "cell_type": "code",
   "execution_count": 31,
   "metadata": {},
   "outputs": [],
   "source": [
    "def heapsort_use_heapq(iterable):\n",
    "    from heapq import heappush,heappop\n",
    "    items = []\n",
    "    for value in iterable:\n",
    "        heappush(items,value)\n",
    "    return [heappop(items) for i in range(len(items))]"
   ]
  },
  {
   "cell_type": "markdown",
   "metadata": {},
   "source": [
    "####  topK"
   ]
  },
  {
   "cell_type": "code",
   "execution_count": 32,
   "metadata": {},
   "outputs": [],
   "source": [
    "import heapq"
   ]
  },
  {
   "cell_type": "code",
   "execution_count": 33,
   "metadata": {},
   "outputs": [],
   "source": [
    "class TopK:\n",
    "    \"\"\"获取大量元素 topk 大个元素，固定内存\n",
    "    思路：\n",
    "    1. 先放入元素前 k 个建立一个最小堆\n",
    "    2. 迭代剩余元素：\n",
    "        如果当前元素小于堆顶元素，跳过该元素（肯定不是前 k 大）\n",
    "        否则替换堆顶元素为当前元素，并重新调整堆\n",
    "    \"\"\"\n",
    "    def __init__(self,iterable,k):\n",
    "        self.minheap = []\n",
    "        self.capacity = k\n",
    "        self.iterable = iterable\n",
    "    \n",
    "    def push(self,val):\n",
    "        if len(self.minheap)>=self.capacity:\n",
    "            min_val = self.minheap[0]\n",
    "            if val < min_val:\n",
    "                pass\n",
    "            else:\n",
    "                heapq.heapreplace(self.minheap,val)\n",
    "        else:\n",
    "            heapq.heappush(self.minheap,val)\n",
    "        \n",
    "    def get_topk(self):\n",
    "        for val in self.iterable:\n",
    "            self.push(val)\n",
    "        return self.minheap\n"
   ]
  },
  {
   "cell_type": "code",
   "execution_count": 34,
   "metadata": {},
   "outputs": [],
   "source": [
    "import random\n",
    "i = list(range(1000))\n",
    "random.shuffle(i)\n",
    "_ = TopK(i,10)"
   ]
  },
  {
   "cell_type": "code",
   "execution_count": 35,
   "metadata": {},
   "outputs": [
    {
     "data": {
      "text/plain": [
       "[990, 991, 992, 994, 993, 998, 996, 999, 997, 995]"
      ]
     },
     "execution_count": 35,
     "metadata": {},
     "output_type": "execute_result"
    }
   ],
   "source": [
    "_.get_topk()"
   ]
  },
  {
   "cell_type": "code",
   "execution_count": null,
   "metadata": {},
   "outputs": [],
   "source": []
  }
 ],
 "metadata": {
  "kernelspec": {
   "display_name": "Python 3",
   "language": "python",
   "name": "python3"
  },
  "language_info": {
   "codemirror_mode": {
    "name": "ipython",
    "version": 3
   },
   "file_extension": ".py",
   "mimetype": "text/x-python",
   "name": "python",
   "nbconvert_exporter": "python",
   "pygments_lexer": "ipython3",
   "version": "3.7.3"
  },
  "toc": {
   "base_numbering": 1,
   "nav_menu": {},
   "number_sections": true,
   "sideBar": true,
   "skip_h1_title": false,
   "title_cell": "Table of Contents",
   "title_sidebar": "Contents",
   "toc_cell": false,
   "toc_position": {},
   "toc_section_display": true,
   "toc_window_display": false
  },
  "varInspector": {
   "cols": {
    "lenName": 16,
    "lenType": 16,
    "lenVar": 40
   },
   "kernels_config": {
    "python": {
     "delete_cmd_postfix": "",
     "delete_cmd_prefix": "del ",
     "library": "var_list.py",
     "varRefreshCmd": "print(var_dic_list())"
    },
    "r": {
     "delete_cmd_postfix": ") ",
     "delete_cmd_prefix": "rm(",
     "library": "var_list.r",
     "varRefreshCmd": "cat(var_dic_list()) "
    }
   },
   "types_to_exclude": [
    "module",
    "function",
    "builtin_function_or_method",
    "instance",
    "_Feature"
   ],
   "window_display": false
  }
 },
 "nbformat": 4,
 "nbformat_minor": 2
}
