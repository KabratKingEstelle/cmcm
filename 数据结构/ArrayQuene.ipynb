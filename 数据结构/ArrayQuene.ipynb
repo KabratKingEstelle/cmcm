{
 "cells": [
  {
   "cell_type": "raw",
   "metadata": {},
   "source": [
    " 队列：\n",
    " 先进先出"
   ]
  },
  {
   "cell_type": "code",
   "execution_count": 1,
   "metadata": {},
   "outputs": [],
   "source": [
    "class Array(object):\n",
    "    def __init__(self,size = 32):\n",
    "        self._size = size\n",
    "        self._items =[None]*size\n",
    "    \n",
    "    def __getitem__(self,index):\n",
    "        return self._items[index]\n",
    "    \n",
    "    def __setitem__(self,index,value):\n",
    "        self._items[index]=value\n",
    "        \n",
    "    def __len__(self):\n",
    "        return self._size\n",
    "    \n",
    "    def clear(self,value=None):\n",
    "        for i in range(len(self,_items)):\n",
    "            self._items[i]=value\n",
    "            \n",
    "    def __iter__(self):\n",
    "        for item in self._items:\n",
    "            yield item\n",
    "            \n",
    "\n",
    "class FullError(Exception):\n",
    "    pass\n",
    "\n",
    "class ArrayQuene(object):\n",
    "    def __init__(self,maxsize):\n",
    "        self.maxsize = maxsize\n",
    "        self.array = Array(maxsize)\n",
    "        self.head = 0\n",
    "        self.tail = 0\n",
    "    \n",
    "    def push(self,value):\n",
    "        if len(self)>=self.maxsize:\n",
    "            raise FullError('queue full')\n",
    "            \n",
    "        self.array[self.head%self.maxsize] = value\n",
    "        self.head +=1\n",
    "        \n",
    "    def pop(self):\n",
    "        value = self.array[self.tail%self.maxsize]\n",
    "        self.tail +=1\n",
    "        return value\n",
    "    \n",
    "    ### array not 向上排序\n",
    "    \n",
    "    def __len__(self):\n",
    "        return self.head-self.tail\n",
    "    \n",
    "      "
   ]
  },
  {
   "cell_type": "code",
   "execution_count": 2,
   "metadata": {
    "scrolled": true
   },
   "outputs": [
    {
     "name": "stdout",
     "output_type": "stream",
     "text": [
      "Requirement already satisfied: pytest in /Users/lemo/anaconda3/lib/python3.7/site-packages (4.3.1)\n",
      "Requirement already satisfied: py>=1.5.0 in /Users/lemo/anaconda3/lib/python3.7/site-packages (from pytest) (1.8.0)\n",
      "Requirement already satisfied: six>=1.10.0 in /Users/lemo/anaconda3/lib/python3.7/site-packages (from pytest) (1.12.0)\n",
      "Requirement already satisfied: setuptools in /Users/lemo/anaconda3/lib/python3.7/site-packages (from pytest) (42.0.2.post20191203)\n",
      "Requirement already satisfied: attrs>=17.4.0 in /Users/lemo/anaconda3/lib/python3.7/site-packages (from pytest) (19.1.0)\n",
      "Requirement already satisfied: atomicwrites>=1.0 in /Users/lemo/anaconda3/lib/python3.7/site-packages (from pytest) (1.3.0)\n",
      "Requirement already satisfied: pluggy>=0.7 in /Users/lemo/anaconda3/lib/python3.7/site-packages (from pytest) (0.9.0)\n",
      "Requirement already satisfied: more-itertools>=4.0.0 in /Users/lemo/anaconda3/lib/python3.7/site-packages (from pytest) (6.0.0)\n"
     ]
    }
   ],
   "source": [
    "! pip install pytest"
   ]
  },
  {
   "cell_type": "code",
   "execution_count": 3,
   "metadata": {},
   "outputs": [],
   "source": [
    "import pytest"
   ]
  },
  {
   "cell_type": "code",
   "execution_count": 41,
   "metadata": {},
   "outputs": [],
   "source": [
    "size= 5\n",
    "q = ArrayQuene(size)"
   ]
  },
  {
   "cell_type": "code",
   "execution_count": 42,
   "metadata": {},
   "outputs": [],
   "source": [
    "q.push(0)"
   ]
  },
  {
   "cell_type": "code",
   "execution_count": 43,
   "metadata": {},
   "outputs": [],
   "source": [
    "q.push(1)"
   ]
  },
  {
   "cell_type": "code",
   "execution_count": 44,
   "metadata": {},
   "outputs": [],
   "source": [
    "q.push(2)"
   ]
  },
  {
   "cell_type": "code",
   "execution_count": 45,
   "metadata": {},
   "outputs": [],
   "source": [
    "q.push(3)"
   ]
  },
  {
   "cell_type": "code",
   "execution_count": 46,
   "metadata": {},
   "outputs": [],
   "source": [
    "q.push(4)"
   ]
  },
  {
   "cell_type": "code",
   "execution_count": 51,
   "metadata": {},
   "outputs": [],
   "source": [
    "assert q.pop()==4"
   ]
  },
  {
   "cell_type": "code",
   "execution_count": null,
   "metadata": {},
   "outputs": [],
   "source": []
  }
 ],
 "metadata": {
  "kernelspec": {
   "display_name": "Python 3",
   "language": "python",
   "name": "python3"
  },
  "language_info": {
   "codemirror_mode": {
    "name": "ipython",
    "version": 3
   },
   "file_extension": ".py",
   "mimetype": "text/x-python",
   "name": "python",
   "nbconvert_exporter": "python",
   "pygments_lexer": "ipython3",
   "version": "3.7.3"
  },
  "toc": {
   "base_numbering": 1,
   "nav_menu": {},
   "number_sections": true,
   "sideBar": true,
   "skip_h1_title": false,
   "title_cell": "Table of Contents",
   "title_sidebar": "Contents",
   "toc_cell": false,
   "toc_position": {},
   "toc_section_display": true,
   "toc_window_display": false
  },
  "varInspector": {
   "cols": {
    "lenName": 16,
    "lenType": 16,
    "lenVar": 40
   },
   "kernels_config": {
    "python": {
     "delete_cmd_postfix": "",
     "delete_cmd_prefix": "del ",
     "library": "var_list.py",
     "varRefreshCmd": "print(var_dic_list())"
    },
    "r": {
     "delete_cmd_postfix": ") ",
     "delete_cmd_prefix": "rm(",
     "library": "var_list.r",
     "varRefreshCmd": "cat(var_dic_list()) "
    }
   },
   "types_to_exclude": [
    "module",
    "function",
    "builtin_function_or_method",
    "instance",
    "_Feature"
   ],
   "window_display": false
  }
 },
 "nbformat": 4,
 "nbformat_minor": 2
}
