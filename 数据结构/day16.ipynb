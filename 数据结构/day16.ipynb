{
 "cells": [
  {
   "cell_type": "markdown",
   "metadata": {},
   "source": [
    "#### 排序算法"
   ]
  },
  {
   "cell_type": "code",
   "execution_count": 1,
   "metadata": {},
   "outputs": [],
   "source": [
    "def select_sort(origin_items,comp = lambda x,y:x<y):\n",
    "'''sample sort '''\n",
    "    items = origin_items[:]\n",
    "    for i in range(len(items)-1):\n",
    "        min_index = i\n",
    "        for j in range(i+1,len(items)):\n",
    "            if comp(items[j],items[min_index]):\n",
    "                min_index = j\n",
    "        items[i],items[min_index] = items[min_index],items[i]\n",
    "    return items"
   ]
  },
  {
   "cell_type": "code",
   "execution_count": 26,
   "metadata": {},
   "outputs": [],
   "source": [
    "def bubble_sort(origin_items,comp = lambda x,y : x>y):\n",
    "    '''冒泡排序'''\n",
    "    items = origin_items[:]\n",
    "    for i in range(len(items)-1):\n",
    "        swapeed = False\n",
    "        print(i)\n",
    "        for j in range(i,len(items)-1-i): #比较相邻两个值的大小\n",
    "            print(j)\n",
    "            if comp(items[j],items[j+1]):\n",
    "                items[j],items[j+1] = items[j+1],items[j]\n",
    "                swapeed = True \n",
    "        print(items)\n",
    "        print(swapeed)\n",
    "        if swapeed:\n",
    "            swapeed = False\n",
    "            for j in range(len(items)-2-i,i,-1):\n",
    "                if comp(items[j-1],items[j]):\n",
    "                    items[j],items[j-1] = items[j-1],items[j]\n",
    "                    swapeed = True\n",
    "                print(swapeed)\n",
    "        if not swapeed:\n",
    "            break\n",
    "    return items"
   ]
  },
  {
   "cell_type": "code",
   "execution_count": 27,
   "metadata": {},
   "outputs": [
    {
     "name": "stdout",
     "output_type": "stream",
     "text": [
      "0\n",
      "0\n",
      "1\n",
      "2\n",
      "[0, 2, 1, 3]\n",
      "True\n",
      "True\n",
      "True\n",
      "1\n",
      "1\n",
      "[0, 1, 2, 3]\n",
      "False\n"
     ]
    },
    {
     "data": {
      "text/plain": [
       "[0, 1, 2, 3]"
      ]
     },
     "execution_count": 27,
     "metadata": {},
     "output_type": "execute_result"
    }
   ],
   "source": []
  },
  {
   "cell_type": "code",
   "execution_count": 11,
   "metadata": {},
   "outputs": [
    {
     "data": {
      "text/plain": [
       "[0, 1, 2]"
      ]
     },
     "execution_count": 11,
     "metadata": {},
     "output_type": "execute_result"
    }
   ],
   "source": [
    "[i for i in range(3)]"
   ]
  },
  {
   "cell_type": "code",
   "execution_count": 12,
   "metadata": {},
   "outputs": [
    {
     "data": {
      "text/plain": [
       "[0, 1, 2]"
      ]
     },
     "execution_count": 12,
     "metadata": {},
     "output_type": "execute_result"
    }
   ],
   "source": [
    "[j for j in range(3)]"
   ]
  },
  {
   "cell_type": "code",
   "execution_count": null,
   "metadata": {},
   "outputs": [],
   "source": []
  }
 ],
 "metadata": {
  "kernelspec": {
   "display_name": "Python 3",
   "language": "python",
   "name": "python3"
  },
  "language_info": {
   "codemirror_mode": {
    "name": "ipython",
    "version": 3
   },
   "file_extension": ".py",
   "mimetype": "text/x-python",
   "name": "python",
   "nbconvert_exporter": "python",
   "pygments_lexer": "ipython3",
   "version": "3.7.3"
  },
  "toc": {
   "base_numbering": 1,
   "nav_menu": {},
   "number_sections": true,
   "sideBar": true,
   "skip_h1_title": false,
   "title_cell": "Table of Contents",
   "title_sidebar": "Contents",
   "toc_cell": false,
   "toc_position": {},
   "toc_section_display": true,
   "toc_window_display": false
  },
  "varInspector": {
   "cols": {
    "lenName": 16,
    "lenType": 16,
    "lenVar": 40
   },
   "kernels_config": {
    "python": {
     "delete_cmd_postfix": "",
     "delete_cmd_prefix": "del ",
     "library": "var_list.py",
     "varRefreshCmd": "print(var_dic_list())"
    },
    "r": {
     "delete_cmd_postfix": ") ",
     "delete_cmd_prefix": "rm(",
     "library": "var_list.r",
     "varRefreshCmd": "cat(var_dic_list()) "
    }
   },
   "types_to_exclude": [
    "module",
    "function",
    "builtin_function_or_method",
    "instance",
    "_Feature"
   ],
   "window_display": false
  }
 },
 "nbformat": 4,
 "nbformat_minor": 2
}
