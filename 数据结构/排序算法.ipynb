{
 "cells": [
  {
   "cell_type": "markdown",
   "metadata": {},
   "source": [
    "#### 冒泡"
   ]
  },
  {
   "cell_type": "code",
   "execution_count": 1,
   "metadata": {},
   "outputs": [],
   "source": [
    "import random"
   ]
  },
  {
   "cell_type": "code",
   "execution_count": 4,
   "metadata": {},
   "outputs": [],
   "source": [
    "def bubble_sort(seq):\n",
    "    n = len(seq)\n",
    "    for i in range(n-1):\n",
    "        for j in range(n-1-i):\n",
    "            if seq[j]>seq[j+1]:\n",
    "                seq[j],seq[j+1] = seq[j+1],seq[j]\n",
    "        print(seq)"
   ]
  },
  {
   "cell_type": "code",
   "execution_count": 9,
   "metadata": {},
   "outputs": [
    {
     "name": "stdout",
     "output_type": "stream",
     "text": [
      "[3, 4, 0, 5, 1, 7, 8, 6, 2, 9]\n",
      "[3, 0, 4, 1, 5, 7, 6, 2, 8, 9]\n",
      "[0, 3, 1, 4, 5, 6, 2, 7, 8, 9]\n",
      "[0, 1, 3, 4, 5, 2, 6, 7, 8, 9]\n",
      "[0, 1, 3, 4, 2, 5, 6, 7, 8, 9]\n",
      "[0, 1, 3, 2, 4, 5, 6, 7, 8, 9]\n",
      "[0, 1, 2, 3, 4, 5, 6, 7, 8, 9]\n",
      "[0, 1, 2, 3, 4, 5, 6, 7, 8, 9]\n",
      "[0, 1, 2, 3, 4, 5, 6, 7, 8, 9]\n"
     ]
    }
   ],
   "source": [
    "bubble_sort([3, 4, 5, 0, 9, 1, 7, 8, 6, 2])"
   ]
  },
  {
   "cell_type": "code",
   "execution_count": 6,
   "metadata": {},
   "outputs": [],
   "source": [
    "def insert_sort(seq):\n",
    "    for i in range(1,len(seq)):\n",
    "        t = i\n",
    "        while t>0:\n",
    "            if seq[t]<seq[t-1]:\n",
    "                tmp=seq[t-1]\n",
    "                seq[t-1] = seq[t]\n",
    "                seq[t]=tmp\n",
    "            t=t-1\n",
    "        print(seq)"
   ]
  },
  {
   "cell_type": "code",
   "execution_count": 10,
   "metadata": {},
   "outputs": [
    {
     "name": "stdout",
     "output_type": "stream",
     "text": [
      "[3, 4, 5, 0, 9, 1, 7, 8, 6, 2]\n",
      "[3, 4, 5, 0, 9, 1, 7, 8, 6, 2]\n",
      "[0, 3, 4, 5, 9, 1, 7, 8, 6, 2]\n",
      "[0, 3, 4, 5, 9, 1, 7, 8, 6, 2]\n",
      "[0, 1, 3, 4, 5, 9, 7, 8, 6, 2]\n",
      "[0, 1, 3, 4, 5, 7, 9, 8, 6, 2]\n",
      "[0, 1, 3, 4, 5, 7, 8, 9, 6, 2]\n",
      "[0, 1, 3, 4, 5, 6, 7, 8, 9, 2]\n",
      "[0, 1, 2, 3, 4, 5, 6, 7, 8, 9]\n"
     ]
    }
   ],
   "source": [
    "insert_sort([3, 4, 5, 0, 9, 1, 7, 8, 6, 2])"
   ]
  },
  {
   "cell_type": "markdown",
   "metadata": {},
   "source": [
    "#### 分治法"
   ]
  },
  {
   "cell_type": "raw",
   "metadata": {},
   "source": [
    "递归：\n",
    "1. 分解愿问题为若干子问题，这些子问题是愿问题的规模最小的实例\n",
    "2. 解决这些子问题，递归求解这些子问题。当子问题的规模足够小时，就可以直接求解\n",
    "3. 合并这些子问题的解成原问题的解"
   ]
  },
  {
   "cell_type": "raw",
   "metadata": {},
   "source": [
    "归并排序：\n",
    "1. 分解： 将待排序的n个元素分成各包含n/2个元素的子序列\n",
    "2. 解决： 使用归并排序递归排序两个子序列\n",
    "3. 合并： 合并两个已经排序的子序列以产生已排序的答案"
   ]
  },
  {
   "cell_type": "code",
   "execution_count": 22,
   "metadata": {},
   "outputs": [],
   "source": [
    "def merge_sort(seq):\n",
    "    if len(seq)<=1:\n",
    "        return seq\n",
    "    else:\n",
    "        mid = int(len(seq)/2)\n",
    "        left_half = merge_sort(seq[:mid])\n",
    "        right_half = merge_sort(seq[mid:])\n",
    "        new_seq = merge_sorted_list(left_half,right_half)\n",
    "        return new_seq\n",
    "\n",
    "def merge_sorted_list(sorted_a,sorted_b):\n",
    "    length_a,length_b = len(sorted_a),len(sorted_b)\n",
    "    a=b=0\n",
    "    new_sorted_seq = list()\n",
    "    \n",
    "    while a<length_a and b<length_b:\n",
    "        if sorted_a[a]<sorted_b[b]:\n",
    "            new_sorted_seq.append(sorted_a[a])\n",
    "            a+=1\n",
    "        else:\n",
    "            new_sorted_seq.append(sorted_b[b])\n",
    "            b+=1\n",
    "    if a<length_a:\n",
    "        new_sorted_seq.extend(sorted_a[a:])\n",
    "    else:\n",
    "        new_sorted_seq.extend(sorted_b[b:])\n",
    "    return new_sorted_seq\n"
   ]
  },
  {
   "cell_type": "code",
   "execution_count": 20,
   "metadata": {},
   "outputs": [],
   "source": [
    "def dg(seq):\n",
    "    if len(seq)<=1:\n",
    "        return seq\n",
    "    else:\n",
    "        mid = int(len(seq)/2)\n",
    "        left_half = dg(seq[:mid])\n",
    "        right_half = dg(seq[mid:])\n",
    "        print('left',left_half)\n",
    "        print('right',right_half)\n",
    "        "
   ]
  },
  {
   "cell_type": "code",
   "execution_count": 23,
   "metadata": {},
   "outputs": [
    {
     "data": {
      "text/plain": [
       "[1, 1, 1, 2, 2, 3, 3, 4, 5]"
      ]
     },
     "execution_count": 23,
     "metadata": {},
     "output_type": "execute_result"
    }
   ],
   "source": [
    "merge_sort([1,2,3,1,1,2,3,4,5])"
   ]
  },
  {
   "cell_type": "markdown",
   "metadata": {},
   "source": [
    "#### 快速排序"
   ]
  },
  {
   "cell_type": "code",
   "execution_count": 27,
   "metadata": {},
   "outputs": [],
   "source": [
    "def quicksort(array):\n",
    "    size = len(array)\n",
    "    if not array or size <2:\n",
    "        return array\n",
    "    pivot_idx = 0\n",
    "    pivot = array[pivot_idx]\n",
    "    less_part = [array[i] for i in range(size) if array[i]<=pivot and pivot_idx != i]\n",
    "    great_part = [array[i] for i in range(size) if array[i]>pivot and pivot_idx != i]\n",
    "    return quicksort(less_part)+[pivot]+quicksort(great_part)\n"
   ]
  },
  {
   "cell_type": "code",
   "execution_count": 28,
   "metadata": {},
   "outputs": [
    {
     "data": {
      "text/plain": [
       "[1, 1, 1, 2, 2, 3, 3, 4, 5]"
      ]
     },
     "execution_count": 28,
     "metadata": {},
     "output_type": "execute_result"
    }
   ],
   "source": [
    "quicksort([1,2,3,1,1,2,3,4,5])"
   ]
  },
  {
   "cell_type": "code",
   "execution_count": 29,
   "metadata": {},
   "outputs": [],
   "source": [
    "def quicksort_inplace(array,beg,end):\n",
    "    if beg < end:\n",
    "        pivot = partition(array,beg,end)\n",
    "        quicksort_inplace(array,beg,pivot)\n",
    "        quicksort_inplace(array,pivot+1,end)\n",
    "        \n",
    "def partition(array,beg,end):\n",
    "    pivot_index = beg\n",
    "    pivot = array[pivot_index]\n",
    "    left = pivot_index+1\n",
    "    right = end -1\n",
    "    \n",
    "    while True:\n",
    "        while left <=right and array[left] <pivot:\n",
    "            left +=1\n",
    "        while right >=left and array[right]>=pivot:\n",
    "            right -=1\n",
    "        if left >right:\n",
    "            break\n",
    "        else:\n",
    "            array[left],array[right] = array[right],array[left]\n",
    "    array[pivot_index],array[right] = array[right],array[pivot_index]\n",
    "    return right"
   ]
  },
  {
   "cell_type": "code",
   "execution_count": null,
   "metadata": {},
   "outputs": [],
   "source": []
  }
 ],
 "metadata": {
  "kernelspec": {
   "display_name": "Python 3",
   "language": "python",
   "name": "python3"
  },
  "language_info": {
   "codemirror_mode": {
    "name": "ipython",
    "version": 3
   },
   "file_extension": ".py",
   "mimetype": "text/x-python",
   "name": "python",
   "nbconvert_exporter": "python",
   "pygments_lexer": "ipython3",
   "version": "3.7.3"
  },
  "toc": {
   "base_numbering": 1,
   "nav_menu": {},
   "number_sections": true,
   "sideBar": true,
   "skip_h1_title": false,
   "title_cell": "Table of Contents",
   "title_sidebar": "Contents",
   "toc_cell": false,
   "toc_position": {},
   "toc_section_display": true,
   "toc_window_display": false
  },
  "varInspector": {
   "cols": {
    "lenName": 16,
    "lenType": 16,
    "lenVar": 40
   },
   "kernels_config": {
    "python": {
     "delete_cmd_postfix": "",
     "delete_cmd_prefix": "del ",
     "library": "var_list.py",
     "varRefreshCmd": "print(var_dic_list())"
    },
    "r": {
     "delete_cmd_postfix": ") ",
     "delete_cmd_prefix": "rm(",
     "library": "var_list.r",
     "varRefreshCmd": "cat(var_dic_list()) "
    }
   },
   "types_to_exclude": [
    "module",
    "function",
    "builtin_function_or_method",
    "instance",
    "_Feature"
   ],
   "window_display": false
  }
 },
 "nbformat": 4,
 "nbformat_minor": 2
}
